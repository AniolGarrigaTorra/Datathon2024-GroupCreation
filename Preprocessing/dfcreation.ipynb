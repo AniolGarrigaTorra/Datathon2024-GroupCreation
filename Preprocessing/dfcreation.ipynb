{
 "cells": [
  {
   "cell_type": "code",
   "metadata": {},
   "source": [
    "# Installs (comenta aquestes línies si ja tens les biblioteques instal·lades)\n",
    "# !pip install rich\n",
    "# !pip install pandas\n",
    "# !pip install uuid\n",
    "# !pip install dataclasses\n",
    "# !pip install typing\n",
    "# !pip install json\n",
    "# !pip install pathlib"
   ],
   "execution_count": null,
   "outputs": []
  },
  {
   "cell_type": "markdown",
   "metadata": {},
   "source": [
    "Codi a netejar una miqueta"
   ]
  },
  {
   "cell_type": "code",
   "metadata": {},
   "source": [
    "from participant import load_participants\n",
    "from rich import print\n",
    "import pandas as pd\n",
    "import numpy as np\n",
    "\n",
    "data_path = \"data/datathon_participants.json\"\n",
    "participants = load_participants(data_path)\n",
    "\n",
    "df = pd.read_json(data_path)\n",
    "df.to_csv(\"data/datathon_participants_csv.csv\", index=False)"
   ],
   "execution_count": null,
   "outputs": []
  },
  {
   "cell_type": "markdown",
   "metadata": {},
   "source": [
    "## Data PREPROCESSING"
   ]
  },
  {
   "cell_type": "code",
   "metadata": {},
   "source": [
    "df.drop(['name', 'email', 'shirt_size', 'dietary_restrictions', 'objective', 'introduction','fun_fact', 'future_excitement', 'technical_project'], axis=1, inplace=True)\n",
    "df.head()"
   ],
   "execution_count": null,
   "outputs": []
  },
  {
   "cell_type": "markdown",
   "metadata": {},
   "source": [
    "Year_of_study"
   ]
  },
  {
   "cell_type": "code",
   "metadata": {},
   "source": [
    "year_mapping = {\n",
    "    '1st year': 1,\n",
    "    '2nd year': 2,\n",
    "    '3rd year': 3,\n",
    "    '4th year': 4,\n",
    "    'Masters': 5,\n",
    "    'PhD': 6\n",
    "}\n",
    "\n",
    "df['year_of_study'] = df['year_of_study'].map(year_mapping)\n",
    "df.head()"
   ],
   "execution_count": null,
   "outputs": []
  },
  {
   "cell_type": "markdown",
   "metadata": {},
   "source": [
    "Interests"
   ]
  },
  {
   "cell_type": "code",
   "metadata": {},
   "source": [
    "all_interests = df['interests'].explode().unique()\n",
    "\n",
    "for value in all_interests:\n",
    "    df[f'has_{value}'] = df['interests'].apply(lambda x: 1 if value in x else 0)\n",
    "\n",
    "df['interests'] = df[[f'has_{value}' for value in all_interests]].values.tolist()\n",
    "\n",
    "df = df.drop(columns=[f'has_{value}' for value in all_interests])\n",
    "\n",
    "df.head()"
   ],
   "execution_count": null,
   "outputs": []
  },
  {
   "cell_type": "markdown",
   "metadata": {},
   "source": [
    "preferred_role"
   ]
  },
  {
   "cell_type": "code",
   "metadata": {},
   "source": [
    "df['preferred_role'].unique()"
   ],
   "execution_count": null,
   "outputs": []
  },
  {
   "cell_type": "markdown",
   "metadata": {},
   "source": [
    "experience_level"
   ]
  },
  {
   "cell_type": "code",
   "metadata": {},
   "source": [
    "df['experience_level'].unique()"
   ],
   "execution_count": null,
   "outputs": []
  },
  {
   "cell_type": "code",
   "metadata": {},
   "source": [
    "experience_mapping = {\n",
    "    'Advanced': 10,\n",
    "    'Intermediate': 4, \n",
    "    'Beginner': 1\n",
    "}\n",
    "\n",
    "df['experience_level'] = df['experience_level'].map(experience_mapping)\n",
    "\n",
    "df['experience'] = df['experience_level'] * np.log(1 + df['hackathons_done'])\n",
    "df.drop(['experience_level', 'hackathons_done'], axis=1, inplace=True)\n",
    "\n",
    "df.head()"
   ],
   "execution_count": null,
   "outputs": []
  },
  {
   "cell_type": "markdown",
   "metadata": {},
   "source": [
    "Sort lenguages list"
   ]
  },
  {
   "cell_type": "code",
   "metadata": {},
   "source": [
    "all_interests = df['preferred_languages'].explode().unique()\n",
    "all_interests"
   ],
   "execution_count": null,
   "outputs": []
  },
  {
   "cell_type": "code",
   "metadata": {},
   "source": [
    "def sort_languages(languages):\n",
    "    preference_order = {\n",
    "        'Catalan': 0,\n",
    "        'Spanish': 1,\n",
    "        'English': 2\n",
    "    }\n",
    "\n",
    "    def sort_key(language):\n",
    "        return preference_order.get(language, 3)\n",
    "    \n",
    "    return sorted(languages, key=sort_key)\n",
    "\n",
    "df['languages_ordered'] = df['preferred_languages'].apply(sort_languages)\n",
    "df.drop('preferred_languages', axis=1, inplace=True)\n",
    "\n",
    "df.head()"
   ],
   "execution_count": null,
   "outputs": []
  },
  {
   "cell_type": "markdown",
   "metadata": {},
   "source": [
    "madurity"
   ]
  },
  {
   "cell_type": "code",
   "metadata": {},
   "source": [
    "weight_level = 1\n",
    "weight_age = 0.2\n",
    "\n",
    "df['maturity'] = (df['year_of_study'] * weight_level) + ((df['age'] - 18) * weight_age)\n",
    "df.drop(['age', 'year_of_study'], axis=1, inplace=True)\n",
    "df.head()"
   ],
   "execution_count": null,
   "outputs": []
  },
  {
   "cell_type": "markdown",
   "metadata": {},
   "source": [
    "availability"
   ]
  },
  {
   "cell_type": "code",
   "metadata": {},
   "source": [
    "time_slots_order = ['Saturday morning', 'Saturday afternoon', 'Saturday night', \n",
    "                    'Sunday morning', 'Sunday afternoon']\n",
    "\n",
    "def time_slots_to_vector(time_slots):\n",
    "    return [1 if time_slots.get(slot, False) else 0 for slot in time_slots_order]\n",
    "\n",
    "df['availability'] = df['availability'].apply(time_slots_to_vector)\n"
   ],
   "execution_count": null,
   "outputs": []
  },
  {
   "cell_type": "code",
   "metadata": {},
   "source": [
    "df.to_csv('clean_data.csv', index=False)"
   ],
   "execution_count": null,
   "outputs": []
  },
  {
   "cell_type": "code",
   "metadata": {},
   "source": [
    "common_identifier = \"id\"\n",
    "\n",
    "columns_to_add = [\"Tryhard\", \"Rookie\", \"Learner\", \"Portfolio\"]\n",
    "\n",
    "df1 = pd.read_csv('participants.csv')\n",
    "\n",
    "df_merged = pd.merge(df, df1[[common_identifier] + columns_to_add], on=common_identifier, how=\"left\")\n",
    "\n",
    "df_merged.to_csv(\"clean_data_actualitzat.csv\", index=False)\n"
   ],
   "execution_count": null,
   "outputs": []
  }
 ],
 "metadata": {
  "kernelspec": {
   "display_name": "Python 3",
   "language": "python",
   "name": "python3"
  },
  "language_info": {
   "name": "python",
   "version": "3.8"
  }
 },
 "nbformat": 4,
 "nbformat_minor": 2
}
``
