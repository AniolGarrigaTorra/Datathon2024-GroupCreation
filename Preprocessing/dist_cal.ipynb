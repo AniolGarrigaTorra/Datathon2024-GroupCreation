{
 "cells": [
  {
   "cell_type": "code",
   "execution_count": 158,
   "metadata": {},
   "outputs": [],
   "source": [
    "from participant import load_participants\n",
    "from rich import print\n",
    "import pandas as pd\n",
    "import numpy as np\n",
    "import math\n",
    "import ast\n",
    "from dataclasses import dataclass\n",
    "from collections import defaultdict\n",
    "from sklearn.preprocessing import OneHotEncoder, StandardScaler, LabelEncoder\n",
    "from sklearn.feature_extraction.text import CountVectorizer"
   ]
  },
  {
   "cell_type": "code",
   "execution_count": 159,
   "metadata": {},
   "outputs": [],
   "source": [
    "class Participant:\n",
    "    def __init__(self, id, university, interests, preferred_role, objective, introduction, technical_project,\n",
    "                 future_excitement, fun_fact, friend_registration, preferred_team_size, availability,\n",
    "                 programming_skills, interest_in_challenges, experience, languages_ordered, maturity):\n",
    "        self.id = id\n",
    "        self.university = university\n",
    "        self.interests = interests\n",
    "        self.preferred_role = preferred_role\n",
    "        self.objective = objective\n",
    "        self.introduction = introduction\n",
    "        self.technical_project = technical_project\n",
    "        self.future_excitement = future_excitement\n",
    "        self.fun_fact = fun_fact\n",
    "        self.friend_registration = friend_registration\n",
    "        self.preferred_team_size = preferred_team_size\n",
    "        self.availability = availability\n",
    "        self.programming_skills = programming_skills\n",
    "        self.interest_in_challenges = interest_in_challenges\n",
    "        self.experience = experience\n",
    "        self.languages_ordered = languages_ordered\n",
    "        self.maturity = maturity"
   ]
  },
  {
   "cell_type": "code",
   "execution_count": 160,
   "metadata": {},
   "outputs": [],
   "source": [
    "INF = 999999"
   ]
  },
  {
   "cell_type": "code",
   "execution_count": 161,
   "metadata": {},
   "outputs": [],
   "source": [
    "data_path = \"data/datathon_participants.json\""
   ]
  },
  {
   "cell_type": "code",
   "execution_count": 162,
   "metadata": {},
   "outputs": [],
   "source": [
    "def dist_university(university_1, university_2) :\n",
    "    if university_1 == university_2:\n",
    "        return 0 \n",
    "    else:\n",
    "        return INF"
   ]
  },
  {
   "cell_type": "code",
   "execution_count": 163,
   "metadata": {},
   "outputs": [],
   "source": [
    "#No usar\n",
    "def dist_age_year_of_study(age_1, age_2, year_1, year_2, age_weight, year_weigth) -> float:\n",
    "    age_distance = abs(age_1 - age_2)\n",
    "    year_distance = abs(year_1 - year_2)\n",
    "    return (age_weight * age_distance + year_weigth * year_distance) / (age_distance + year_distance)\n"
   ]
  },
  {
   "cell_type": "code",
   "execution_count": 164,
   "metadata": {},
   "outputs": [],
   "source": [
    "def dist_one_hot_encoding(x, y):\n",
    "    return sum([1 if x_i != y_i else 0 for x_i, y_i in zip(x, y)])"
   ]
  },
  {
   "cell_type": "code",
   "execution_count": 165,
   "metadata": {},
   "outputs": [],
   "source": [
    "def dist_programming_skills(skills_1, skills_2) -> float:\n",
    "    avg_level_1 = sum(skills_1.values()) / len(skills_1) if skills_1 else 0\n",
    "    \n",
    "    avg_level_2 = sum(skills_2.values()) / len(skills_2) if skills_2 else 0\n",
    "    \n",
    "    distance_avg_levels = abs(avg_level_1 - avg_level_2)\n",
    "    \n",
    "    all_skills = set(skills_1.keys()).union(set(skills_2.keys()))\n",
    "    \n",
    "    distance_union = 1 / len(all_skills) if all_skills else INF \n",
    "    \n",
    "    return distance_avg_levels + distance_union\n"
   ]
  },
  {
   "cell_type": "code",
   "execution_count": 166,
   "metadata": {},
   "outputs": [],
   "source": [
    "#No usar\n",
    "def dist_experience(exp_1, exp_2, hackathons_1, hackathons_2, experience_weights) -> float:\n",
    "    exp_distance = abs(exp_1 - exp_2)\n",
    "    hackathon_distance = abs(np.log1p(hackathons_1) - np.log1p(hackathons_2))\n",
    "    total_distance = experience_weights[0] * exp_distance + experience_weights[1] * hackathon_distance\n",
    "    return total_distance"
   ]
  },
  {
   "cell_type": "code",
   "execution_count": 167,
   "metadata": {},
   "outputs": [],
   "source": [
    "def dist_preferred_role(role_1, role_2):\n",
    "    if role_1 == role_2:\n",
    "        return 1.0  \n",
    "\n",
    "    if role_1 == \"Don't know\" or role_2 == \"Don't know\":\n",
    "        return 1 / 0.2  \n",
    "\n",
    "    if role_1 == \"Don't care\" or role_2 == \"Don't care\":\n",
    "        return 0.5  \n",
    "\n",
    "    return 0.0"
   ]
  },
  {
   "cell_type": "code",
   "execution_count": 168,
   "metadata": {},
   "outputs": [],
   "source": [
    "#No usar\n",
    "def euclidean_distance(vector_1, vector_2):\n",
    "    squared_diff_sum = sum((x - y) ** 2 for x, y in zip(vector_1, vector_2))\n",
    "    \n",
    "    return math.sqrt(squared_diff_sum)"
   ]
  },
  {
   "cell_type": "code",
   "execution_count": 169,
   "metadata": {},
   "outputs": [],
   "source": [
    "def dist_language(languages_1, languages_2):\n",
    "    if not languages_1 or not languages_2:  \n",
    "        return 0\n",
    "    \n",
    "    common_languages = set(languages_1).intersection(set(languages_2))\n",
    "    \n",
    "    if not common_languages:  \n",
    "        return INF\n",
    "\n",
    "    distance = 0\n",
    "    for i, lang_1 in enumerate(languages_1):\n",
    "        for j, lang_2 in enumerate(languages_2):\n",
    "            if lang_1 == lang_2:\n",
    "                d = abs(i - j)\n",
    "                return d + math.exp(i+j) - 1"
   ]
  },
  {
   "cell_type": "code",
   "execution_count": 170,
   "metadata": {},
   "outputs": [
    {
     "data": {
      "text/plain": [
       "\"{'Data Visualization': 2, 'Flask': 4, 'React Native': 6, 'UI/UX Design': 3, 'TypeScript': 3, 'Git': 2, 'React': 5, 'MongoDB': 2, 'HTML/CSS': 5}\""
      ]
     },
     "execution_count": 170,
     "metadata": {},
     "output_type": "execute_result"
    }
   ],
   "source": [
    "df = pd.read_csv('clean_data.csv')\n",
    "\n",
    "participants = {row['id']: Participant(**row) for _, row in df.iterrows()}\n",
    "participants['2ebad15c-c0ef-4c04-ba98-c5d98403a90c'].programming_skills\n"
   ]
  },
  {
   "cell_type": "code",
   "execution_count": 171,
   "metadata": {},
   "outputs": [],
   "source": [
    "participants_dict = {}\n",
    "\n",
    "for _, row in df.iterrows():\n",
    "    programming_skills = ast.literal_eval(row['programming_skills'])  \n",
    "    interests = ast.literal_eval(row['interests']) \n",
    "    friend_registration = ast.literal_eval(row['friend_registration'])  \n",
    "    availability = ast.literal_eval(row['availability'])  \n",
    "    interest_in_challenges = ast.literal_eval(row['interest_in_challenges'])  \n",
    "    languages_ordered = ast.literal_eval(row['languages_ordered'])  \n",
    "\n",
    "    \n",
    "    participant = Participant(\n",
    "        id=row['id'],\n",
    "        university=row['university'],\n",
    "        interests=interests,  \n",
    "        preferred_role=row['preferred_role'],\n",
    "        objective=row['objective'],\n",
    "        introduction=row['introduction'],\n",
    "        technical_project=row['technical_project'],\n",
    "        future_excitement=row['future_excitement'],\n",
    "        fun_fact=row['fun_fact'],\n",
    "        friend_registration=friend_registration,  \n",
    "        preferred_team_size=row['preferred_team_size'],\n",
    "        availability=availability,  \n",
    "        programming_skills=programming_skills,  \n",
    "        interest_in_challenges=interest_in_challenges,  \n",
    "        experience=row['experience'],\n",
    "        languages_ordered=languages_ordered,  \n",
    "        maturity=row['maturity']\n",
    "    )\n",
    "    \n",
    "    participants_dict[row['id']] = participant"
   ]
  },
  {
   "cell_type": "code",
   "execution_count": 176,
   "metadata": {},
   "outputs": [],
   "source": [
    "weights = {\n",
    "    'university': 0.2,\n",
    "    'interests': 0.2,\n",
    "    'preferred_role': 0.3,\n",
    "    'availability': 0.1,\n",
    "    'programming_skils': 0.1,\n",
    "    'interests_in_challenges': 0.05,\n",
    "    'languages': 0.05,\n",
    "    'experience': 0.05,\n",
    "    'maturity': 0.15\n",
    "}\n"
   ]
  },
  {
   "cell_type": "code",
   "execution_count": 173,
   "metadata": {},
   "outputs": [],
   "source": [
    "def combined_distance(participant1: Participant, participant2: Participant, weigths: dict[str,float]):\n",
    "    d_university = dist_university(participant1.university, participant2.university)*weigths['university']\n",
    "    d_interests = dist_one_hot_encoding(participant1.interests, participant2. interests)*weigths['interests']\n",
    "    d_preferred_role = dist_preferred_role(participant1.preferred_role, participant2. preferred_role)*weigths['preferred_role']\n",
    "    d_availability = dist_one_hot_encoding(participant1.availability, participant2. availability)*weigths['availability']\n",
    "    d_programming_skills = dist_programming_skills(participant1.programming_skills, participant2.programming_skills)*weigths['programming_skils']\n",
    "    d_interests_in_challenges = dist_one_hot_encoding(participant1.interest_in_challenges, participant2.interest_in_challenges)*weigths['interests_in_challenges']\n",
    "    d_languages = dist_language(participant1.languages_ordered, participant2.languages_ordered)*weigths['languages']\n",
    "    d_experience = abs(participant1.experience - participant2.experience)*weigths['experience']\n",
    "    d_maturity = abs(participant1.maturity - participant2.maturity)*weigths['maturity']\n",
    "    total_distance = (\n",
    "        d_university +\n",
    "        d_interests +\n",
    "        d_preferred_role +\n",
    "        d_availability +\n",
    "        d_programming_skills +\n",
    "        d_interests_in_challenges +\n",
    "        d_languages + \n",
    "        d_experience +\n",
    "        d_maturity\n",
    "    )\n",
    "    return total_distance"
   ]
  },
  {
   "cell_type": "code",
   "execution_count": null,
   "metadata": {},
   "outputs": [
    {
     "data": {
      "text/plain": [
       "0.0"
      ]
     },
     "execution_count": 179,
     "metadata": {},
     "output_type": "execute_result"
    }
   ],
   "source": [
    "participant1 = participants_dict['2ebad15c-c0ef-4c04-ba98-c5d98403a90c']\n",
    "participant2 = participants_dict['2ebad15c-c0ef-4c04-ba98-c5d98403a90c']\n",
    "\n",
    "print(dist_university(participant1.university, participant2.university)*weights['university']\n",
    "dist_one_hot_encoding(participant1.interests, participant2. interests)*weights['interests']\n",
    "dist_preferred_role(participant1.preferred_role, participant2. preferred_role)*weights['preferred_role']\n",
    "dist_one_hot_encoding(participant1.availability, participant2. availability)*weights['availability']\n",
    "dist_programming_skills(participant1.programming_skills, participant2.programming_skills)*weights['programming_skils']\n",
    "dist_one_hot_encoding(participant1.interest_in_challenges, participant2.interest_in_challenges)*weights['interests_in_challenges']\n",
    "dist_language(participant1.languages_ordered, participant2.languages_ordered)*weights['languages']\n",
    "abs(participant1.experience - participant2.experience)*weights['experience']\n",
    "abs(participant1.maturity - participant2.maturity)*weights['maturity']"
   ]
  },
  {
   "cell_type": "code",
   "execution_count": 175,
   "metadata": {},
   "outputs": [
    {
     "data": {
      "text/plain": [
       "0.3111111111111111"
      ]
     },
     "execution_count": 175,
     "metadata": {},
     "output_type": "execute_result"
    }
   ],
   "source": [
    "combined_distance(participants_dict['2ebad15c-c0ef-4c04-ba98-c5d98403a90c'],participants_dict['2ebad15c-c0ef-4c04-ba98-c5d98403a90c'],weights)"
   ]
  },
  {
   "cell_type": "code",
   "execution_count": null,
   "metadata": {},
   "outputs": [
    {
     "data": {
      "text/plain": [
       "Participant(id='2ebad15c-c0ef-4c04-ba98-c5d98403a90c', university='Universitat Internacional de Catalunya (UIC)', interests='[1, 1, 1, 1, 0, 0, 0, 0, 0, 0, 0, 0, 0, 0, 0, 0, 0, 0, 0, 0, 0, 0, 0, 0]', preferred_role='Design', objective=\"I'm super stoked to be participating in this datathon! My goal is to soak up the vibes, learn from others, and have an absolute blast. I want to join in on as many events and workshops as I can, learn new skills and insights, and make friends with like-minded peeps. I'm more about having fun and making connections than about trying to win (although, I do love a good challenge!). My objective is to leave this datathon feeling refreshed, inspired, and with new friendships to look back on. Bring it on!\", introduction=\"Hi there! I'm Sara, and I'm super excited to be here at the datathon. As a university student, I'm always looking for new challenges and ways to learn. I've got a background in programming and love fiddling with coding - whether it's building something new or just solving problems. I'm all about creative solutions and finding innovative ways to get things done. Outside of code, you can find me exploring fintech, blockchain, and cybersecurity. I'm looking forward to meeting other curious and ambitious folks and having an amazing time here at the datathon!\", technical_project='One project that really got me excited was building a personal finance tracker using Flask and MongoDB! I love fintech, and being able to create something that actually helps people manage their finances was super rewarding. I built a simple app that allowed users to track their expenses, income, and even set budgets for themselves. The best part was learning how to work with MongoDB, which was a new experience for me. It was amazing to see the project come together, and now I actually use it to track my own finances!', future_excitement=\"The future is so exciting! As I look ahead, I'm thrilled to think about the innovative projects I'll be a part of. I've always been fascinated by the potential of fintech to revolutionize the way we manage our money and interact with financial institutions. In the next 10 years, I dream of being part of a startup that develops a decentralized banking system built on blockchain technology. Imagine having control over your finances, being able to securely share information and transfer funds with ease. The possibilities are endless, and I can't wait to be a part of shaping this future.\", fun_fact=\"Hey there! When I'm not coding, I love to belt out my favorite rock ballads in the shower. My friends even call me the 'Queen of Shower Riffs.' Nothing gets me pumped up like a little Ariana Grande and some foggy mirrors\", friend_registration='[]', preferred_team_size=4, availability='[1, 1, 0, 1, 1]', programming_skills=\"{'Data Visualization': 2, 'Flask': 4, 'React Native': 6, 'UI/UX Design': 3, 'TypeScript': 3, 'Git': 2, 'React': 5, 'MongoDB': 2, 'HTML/CSS': 5}\", interest_in_challenges=\"['Mango Challenge', 'Restb.ai Challenge', 'AED Challenge']\", experience=4.394449154672439, languages_ordered=\"['Catalan', 'English']\", maturity=4.6)"
      ]
     },
     "execution_count": 73,
     "metadata": {},
     "output_type": "execute_result"
    }
   ],
   "source": [
    "participants['2ebad15c-c0ef-4c04-ba98-c5d98403a90c']"
   ]
  },
  {
   "cell_type": "code",
   "execution_count": null,
   "metadata": {},
   "outputs": [
    {
     "data": {
      "text/plain": [
       "str"
      ]
     },
     "execution_count": 74,
     "metadata": {},
     "output_type": "execute_result"
    }
   ],
   "source": [
    "type(participants['2ebad15c-c0ef-4c04-ba98-c5d98403a90c'].programming_skills)"
   ]
  }
 ],
 "metadata": {
  "kernelspec": {
   "display_name": "Python 3",
   "language": "python",
   "name": "python3"
  },
  "language_info": {
   "codemirror_mode": {
    "name": "ipython",
    "version": 3
   },
   "file_extension": ".py",
   "mimetype": "text/x-python",
   "name": "python",
   "nbconvert_exporter": "python",
   "pygments_lexer": "ipython3",
   "version": "3.11.9"
  }
 },
 "nbformat": 4,
 "nbformat_minor": 2
}
