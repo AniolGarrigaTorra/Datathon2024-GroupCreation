{
 "cells": [
  {
   "cell_type": "code",
   "execution_count": 114,
   "metadata": {},
   "outputs": [],
   "source": [
    "from rich import print\n",
    "import pandas as pd\n",
    "import numpy as np\n",
    "import math\n",
    "import ast\n",
    "from dataclasses import dataclass\n",
    "from collections import defaultdict\n",
    "from sklearn.preprocessing import OneHotEncoder, StandardScaler, LabelEncoder\n",
    "from sklearn.feature_extraction.text import CountVectorizer"
   ]
  },
  {
   "cell_type": "code",
   "execution_count": 115,
   "metadata": {},
   "outputs": [],
   "source": [
    "class Participant:\n",
    "    def __init__(self, id, university, interests, preferred_role, friend_registration, preferred_team_size, availability,\n",
    "                 programming_skills, interest_in_challenges, experience, languages_ordered, maturity, Tryhard, Rookie, Learner, Portfolio):\n",
    "        self.id = id\n",
    "        self.university = university\n",
    "        self.interests = interests\n",
    "        self.preferred_role = preferred_role\n",
    "        self.friend_registration = friend_registration\n",
    "        self.preferred_team_size = preferred_team_size\n",
    "        self.availability = availability\n",
    "        self.programming_skills = programming_skills\n",
    "        self.interest_in_challenges = interest_in_challenges\n",
    "        self.experience = experience\n",
    "        self.languages_ordered = languages_ordered\n",
    "        self.maturity = maturity\n",
    "        self.Tryhard = Tryhard\n",
    "        self.Rookie = Rookie\n",
    "        self.Learner = Learner\n",
    "        self.Portfolio = Portfolio"
   ]
  },
  {
   "cell_type": "code",
   "execution_count": 116,
   "metadata": {},
   "outputs": [],
   "source": [
    "INF = 999999"
   ]
  },
  {
   "cell_type": "code",
   "execution_count": 117,
   "metadata": {},
   "outputs": [],
   "source": [
    "data_path = \"data/datathon_participants.json\""
   ]
  },
  {
   "cell_type": "code",
   "execution_count": 118,
   "metadata": {},
   "outputs": [],
   "source": [
    "def dist_university(university_1, university_2) :\n",
    "    if university_1 == university_2:\n",
    "        return 0 \n",
    "    else:\n",
    "        return INF"
   ]
  },
  {
   "cell_type": "code",
   "execution_count": 119,
   "metadata": {},
   "outputs": [],
   "source": [
    "def dist_friends(friend_registration_1, friend_registration_2, id_1, id_2):\n",
    "    if id_1 in friend_registration_2 and id_2 in friend_registration_1:\n",
    "        return 0\n",
    "    elif id_1 in friend_registration_2 or id_2 in friend_registration_1:\n",
    "        return 1\n",
    "    return 10"
   ]
  },
  {
   "cell_type": "code",
   "execution_count": 120,
   "metadata": {},
   "outputs": [],
   "source": [
    "#No usar\n",
    "def dist_age_year_of_study(age_1, age_2, year_1, year_2, age_weight, year_weigth) -> float:\n",
    "    age_distance = abs(age_1 - age_2)\n",
    "    year_distance = abs(year_1 - year_2)\n",
    "    return (age_weight * age_distance + year_weigth * year_distance) / (age_distance + year_distance)\n"
   ]
  },
  {
   "cell_type": "code",
   "execution_count": 121,
   "metadata": {},
   "outputs": [],
   "source": [
    "def dist_one_hot_encoding(x, y):\n",
    "    return sum([1 if x_i != y_i else 0 for x_i, y_i in zip(x, y)])"
   ]
  },
  {
   "cell_type": "code",
   "execution_count": 122,
   "metadata": {},
   "outputs": [],
   "source": [
    "def dist_programming_skills(skills_1, skills_2) -> float:\n",
    "    avg_level_1 = sum(skills_1.values()) / len(skills_1) if skills_1 else 0\n",
    "    \n",
    "    avg_level_2 = sum(skills_2.values()) / len(skills_2) if skills_2 else 0\n",
    "    \n",
    "    distance_avg_levels = abs(avg_level_1 - avg_level_2)\n",
    "    \n",
    "    all_skills = set(skills_1.keys()).union(set(skills_2.keys()))\n",
    "    \n",
    "    distance_union = 1 / len(all_skills) if all_skills else INF \n",
    "    \n",
    "    return distance_avg_levels + distance_union\n"
   ]
  },
  {
   "cell_type": "code",
   "execution_count": 123,
   "metadata": {},
   "outputs": [],
   "source": [
    "#No usar\n",
    "def dist_experience(exp_1, exp_2, hackathons_1, hackathons_2, experience_weights) -> float:\n",
    "    exp_distance = abs(exp_1 - exp_2)\n",
    "    hackathon_distance = abs(np.log1p(hackathons_1) - np.log1p(hackathons_2))\n",
    "    total_distance = experience_weights[0] * exp_distance + experience_weights[1] * hackathon_distance\n",
    "    return total_distance"
   ]
  },
  {
   "cell_type": "code",
   "execution_count": 124,
   "metadata": {},
   "outputs": [],
   "source": [
    "def dist_preferred_role(role_1, role_2):\n",
    "    if role_1 == role_2:\n",
    "        return 1.0  \n",
    "\n",
    "    if role_1 == \"Don't know\" or role_2 == \"Don't know\":\n",
    "        return 1 / 0.2  \n",
    "\n",
    "    if role_1 == \"Don't care\" or role_2 == \"Don't care\":\n",
    "        return 0.5  \n",
    "\n",
    "    return 0.0"
   ]
  },
  {
   "cell_type": "code",
   "execution_count": 125,
   "metadata": {},
   "outputs": [],
   "source": [
    "#No usar\n",
    "def euclidean_distance(vector_1, vector_2):\n",
    "    squared_diff_sum = sum((x - y) ** 2 for x, y in zip(vector_1, vector_2))\n",
    "    \n",
    "    return math.sqrt(squared_diff_sum)"
   ]
  },
  {
   "cell_type": "code",
   "execution_count": 126,
   "metadata": {},
   "outputs": [],
   "source": [
    "def dist_language(languages_1, languages_2):\n",
    "    if not languages_1 or not languages_2:  \n",
    "        return 0\n",
    "    \n",
    "    common_languages = set(languages_1).intersection(set(languages_2))\n",
    "    \n",
    "    if not common_languages:  \n",
    "        return INF\n",
    "\n",
    "    distance = 0\n",
    "    for i, lang_1 in enumerate(languages_1):\n",
    "        for j, lang_2 in enumerate(languages_2):\n",
    "            if lang_1 == lang_2:\n",
    "                d = abs(i - j)\n",
    "                return d + math.exp(i+j) - 1"
   ]
  },
  {
   "cell_type": "code",
   "execution_count": 127,
   "metadata": {},
   "outputs": [],
   "source": [
    "df = pd.read_csv('clean_data_actualitzat.csv')\n"
   ]
  },
  {
   "cell_type": "code",
   "execution_count": 128,
   "metadata": {},
   "outputs": [],
   "source": [
    "participants_dict = {}\n",
    "\n",
    "for _, row in df.iterrows():\n",
    "    programming_skills = ast.literal_eval(row['programming_skills'])  \n",
    "    interests = ast.literal_eval(row['interests']) \n",
    "    friend_registration = ast.literal_eval(row['friend_registration'])  \n",
    "    availability = ast.literal_eval(row['availability'])  \n",
    "    interest_in_challenges = ast.literal_eval(row['interest_in_challenges'])  \n",
    "    languages_ordered = ast.literal_eval(row['languages_ordered'])  \n",
    "\n",
    "    \n",
    "    participant = Participant(\n",
    "        id=row['id'],\n",
    "        university=row['university'],\n",
    "        interests=interests,  \n",
    "        preferred_role=row['preferred_role'],\n",
    "        friend_registration=friend_registration,  \n",
    "        preferred_team_size=row['preferred_team_size'],\n",
    "        availability=availability,  \n",
    "        programming_skills=programming_skills,  \n",
    "        interest_in_challenges=interest_in_challenges,  \n",
    "        experience=row['experience'],\n",
    "        languages_ordered=languages_ordered,  \n",
    "        maturity=row['maturity'],\n",
    "        Tryhard=row['Tryhard'],\n",
    "        Rookie=row['Rookie'],\n",
    "        Learner=row['Learner'],\n",
    "        Portfolio=row['Portfolio']\n",
    "    )\n",
    "    \n",
    "    participants_dict[row['id']] = participant"
   ]
  },
  {
   "cell_type": "code",
   "execution_count": 129,
   "metadata": {},
   "outputs": [],
   "source": [
    "def get_min_max_values(participants_dict, weights):\n",
    "    # Inicialitzar els valors mínims i màxims per cada atribut\n",
    "    min_values = {\n",
    "        'university': float('inf'),\n",
    "        'interests': float('inf'),\n",
    "        'preferred_role': float('inf'),\n",
    "        'availability': float('inf'),\n",
    "        'programming_skills': float('inf'),\n",
    "        'interests_in_challenges': float('inf'),\n",
    "        'languages': float('inf'),\n",
    "        'experience': float('inf'),\n",
    "        'maturity': float('inf'),\n",
    "        'profile': float('inf'),\n",
    "        'friends': float('inf')\n",
    "    }\n",
    "\n",
    "    max_values = {\n",
    "        'university': float('-inf'),\n",
    "        'interests': float('-inf'),\n",
    "        'preferred_role': float('-inf'),\n",
    "        'availability': float('-inf'),\n",
    "        'programming_skills': float('-inf'),\n",
    "        'interests_in_challenges': float('-inf'),\n",
    "        'languages': float('-inf'),\n",
    "        'experience': float('-inf'),\n",
    "        'maturity': float('-inf'),\n",
    "        'profile': float('-inf'),\n",
    "        'friends': float('-inf')\n",
    "    }\n",
    "\n",
    "    # Iterar sobre tots els participants i calcular les distàncies\n",
    "    participant_ids = list(participants_dict.keys())\n",
    "    \n",
    "    for i in range(len(participant_ids)):\n",
    "        for j in range(i + 1, len(participant_ids)):  # Evitar calcular dues vegades la mateixa parella\n",
    "            p1 = participants_dict[participant_ids[i]]\n",
    "            p2 = participants_dict[participant_ids[j]]\n",
    "            \n",
    "            \n",
    "            # Calcula les distàncies per atributs individuals\n",
    "            d_university = dist_university(p1.university, p2.university) * weights['university']\n",
    "            d_interests = dist_one_hot_encoding(p1.interests, p2.interests) * weights['interests']\n",
    "            d_preferred_role = dist_preferred_role(p1.preferred_role, p2.preferred_role) * weights['preferred_role']\n",
    "            d_availability = dist_one_hot_encoding(p1.availability, p2.availability) * weights['availability']\n",
    "            d_programming_skills = dist_programming_skills(p1.programming_skills, p2.programming_skills) * weights['programming_skills']\n",
    "            d_interests_in_challenges = dist_one_hot_encoding(p1.interest_in_challenges, p2.interest_in_challenges) * weights['interests_in_challenges']\n",
    "            d_languages = dist_language(p1.languages_ordered, p2.languages_ordered) * weights['languages']\n",
    "            d_experience = abs(p1.experience - p2.experience) * weights['experience']\n",
    "            d_maturity = abs(p1.maturity - p2.maturity) * weights['maturity']\n",
    "            d_profile = (abs(p1.Tryhard - p2.Tryhard) + abs(p1.Rookie - p2.Rookie) + abs(p1.Learner - p2.Learner) + abs(p1.Portfolio - p2.Portfolio)) * weights['profile']\n",
    "            d_friend = dist_friends(p1.friend_registration, p2.friend_registration, p1.id, p2.id) * weights['friends']\n",
    "            \n",
    "            # Actualitzar min i max per a cada atribut\n",
    "            min_values['university'] = min(min_values['university'], d_university)\n",
    "            max_values['university'] = max(max_values['university'], d_university)\n",
    "\n",
    "            min_values['interests'] = min(min_values['interests'], d_interests)\n",
    "            max_values['interests'] = max(max_values['interests'], d_interests)\n",
    "\n",
    "            min_values['preferred_role'] = min(min_values['preferred_role'], d_preferred_role)\n",
    "            max_values['preferred_role'] = max(max_values['preferred_role'], d_preferred_role)\n",
    "\n",
    "            min_values['availability'] = min(min_values['availability'], d_availability)\n",
    "            max_values['availability'] = max(max_values['availability'], d_availability)\n",
    "\n",
    "            min_values['programming_skills'] = min(min_values['programming_skills'], d_programming_skills)\n",
    "            max_values['programming_skills'] = max(max_values['programming_skills'], d_programming_skills)\n",
    "\n",
    "            min_values['interests_in_challenges'] = min(min_values['interests_in_challenges'], d_interests_in_challenges)\n",
    "            max_values['interests_in_challenges'] = max(max_values['interests_in_challenges'], d_interests_in_challenges)\n",
    "\n",
    "            min_values['languages'] = min(min_values['languages'], d_languages)\n",
    "            max_values['languages'] = max(max_values['languages'], d_languages)\n",
    "\n",
    "            min_values['experience'] = min(min_values['experience'], d_experience)\n",
    "            max_values['experience'] = max(max_values['experience'], d_experience)\n",
    "\n",
    "            min_values['maturity'] = min(min_values['maturity'], d_maturity)\n",
    "            max_values['maturity'] = max(max_values['maturity'], d_maturity)\n",
    "\n",
    "            min_values['profile'] = min(min_values['profile'], d_profile)\n",
    "            max_values['profile'] = max(max_values['profile'], d_profile)\n",
    "\n",
    "            min_values['friends'] = min(min_values['friends'], d_friend)\n",
    "            max_values['friends'] = max(max_values['friends'], d_friend)\n",
    "\n",
    "    return min_values, max_values\n"
   ]
  },
  {
   "cell_type": "code",
   "execution_count": 130,
   "metadata": {},
   "outputs": [],
   "source": [
    "weights = {\n",
    "    'university': 0.2,\n",
    "    'interests': 0.2,\n",
    "    'preferred_role': 0.3,\n",
    "    'availability': 0.1,\n",
    "    'programming_skills': 0.1,\n",
    "    'interests_in_challenges': 0.05,\n",
    "    'languages': 0.05,\n",
    "    'experience': 0.05,\n",
    "    'maturity': 0.15,\n",
    "    'profile':0.2,\n",
    "    'friends' : 1\n",
    "\n",
    "}\n"
   ]
  },
  {
   "cell_type": "code",
   "execution_count": 131,
   "metadata": {},
   "outputs": [],
   "source": [
    "def combined_distance(participant1: Participant, participant2: Participant, weights: dict[str, float], min_values: dict, max_values: dict):\n",
    "    # Calcular les distàncies per atribut\n",
    "    d_university = dist_university(participant1.university, participant2.university)\n",
    "    d_interests = dist_one_hot_encoding(participant1.interests, participant2.interests)\n",
    "    d_preferred_role = dist_preferred_role(participant1.preferred_role, participant2.preferred_role)\n",
    "    d_availability = dist_one_hot_encoding(participant1.availability, participant2.availability)\n",
    "    d_programming_skills = dist_programming_skills(participant1.programming_skills, participant2.programming_skills)\n",
    "    d_interests_in_challenges = dist_one_hot_encoding(participant1.interest_in_challenges, participant2.interest_in_challenges)\n",
    "    d_languages = dist_language(participant1.languages_ordered, participant2.languages_ordered)\n",
    "    d_experience = abs(participant1.experience - participant2.experience)\n",
    "    d_maturity = abs(participant1.maturity - participant2.maturity)\n",
    "    d_profile = (abs(participant1.Tryhard - participant2.Tryhard) + abs(participant1.Rookie - participant2.Rookie) + abs(participant1.Learner - participant2.Learner) + abs(participant1.Portfolio - participant2.Portfolio))\n",
    "    d_friend = dist_friends(participant1.friend_registration, participant2.friend_registration, participant1.id, participant2.id)\n",
    "\n",
    "    # Normalitzar les distàncies utilitzant els mínims i màxims\n",
    "    d_university_normalized = (d_university - min_values['university']) / (max_values['university'] - min_values['university']) if max_values['university'] > min_values['university'] else 0\n",
    "    d_interests_normalized = (d_interests - min_values['interests']) / (max_values['interests'] - min_values['interests']) if max_values['interests'] > min_values['interests'] else 0\n",
    "    d_preferred_role_normalized = (d_preferred_role - min_values['preferred_role']) / (max_values['preferred_role'] - min_values['preferred_role']) if max_values['preferred_role'] > min_values['preferred_role'] else 0\n",
    "    d_availability_normalized = (d_availability - min_values['availability']) / (max_values['availability'] - min_values['availability']) if max_values['availability'] > min_values['availability'] else 0\n",
    "    d_programming_skills_normalized = (d_programming_skills - min_values['programming_skills']) / (max_values['programming_skills'] - min_values['programming_skills']) if max_values['programming_skills'] > min_values['programming_skills'] else 0\n",
    "    d_interests_in_challenges_normalized = (d_interests_in_challenges - min_values['interests_in_challenges']) / (max_values['interests_in_challenges'] - min_values['interests_in_challenges']) if max_values['interests_in_challenges'] > min_values['interests_in_challenges'] else 0\n",
    "    d_languages_normalized = (d_languages - min_values['languages']) / (max_values['languages'] - min_values['languages']) if max_values['languages'] > min_values['languages'] else 0\n",
    "    d_experience_normalized = (d_experience - min_values['experience']) / (max_values['experience'] - min_values['experience']) if max_values['experience'] > min_values['experience'] else 0\n",
    "    d_maturity_normalized = (d_maturity - min_values['maturity']) / (max_values['maturity'] - min_values['maturity']) if max_values['maturity'] > min_values['maturity'] else 0\n",
    "    d_profile_normalized = (d_profile - min_values['profile']) / (max_values['profile'] - min_values['profile']) if max_values['profile'] > min_values['profile'] else 0\n",
    "    d_friend_normalized = (d_friend - min_values['friends']) / (max_values['friends'] - min_values['friends']) if max_values['friends'] > min_values['friends'] else 0\n",
    "\n",
    "    # Multiplicar les distàncies normalitzades pels pesos corresponents\n",
    "    d_university_weighted = d_university_normalized * weights['university']\n",
    "    d_interests_weighted = d_interests_normalized * weights['interests']\n",
    "    d_preferred_role_weighted = d_preferred_role_normalized * weights['preferred_role']\n",
    "    d_availability_weighted = d_availability_normalized * weights['availability']\n",
    "    d_programming_skills_weighted = d_programming_skills_normalized * weights['programming_skills']\n",
    "    d_interests_in_challenges_weighted = d_interests_in_challenges_normalized * weights['interests_in_challenges']\n",
    "    d_languages_weighted = d_languages_normalized * weights['languages']\n",
    "    d_experience_weighted = d_experience_normalized * weights['experience']\n",
    "    d_maturity_weighted = d_maturity_normalized * weights['maturity']\n",
    "    d_profile_weighted = d_profile_normalized * weights['profile']\n",
    "    d_friend_weighted = d_friend_normalized * weights['friends']\n",
    "\n",
    "    # Sumar les distàncies ponderades\n",
    "    total_distance = (\n",
    "        d_university_weighted +\n",
    "        d_interests_weighted +\n",
    "        d_preferred_role_weighted +\n",
    "        d_availability_weighted +\n",
    "        d_programming_skills_weighted +\n",
    "        d_interests_in_challenges_weighted +\n",
    "        d_languages_weighted +\n",
    "        d_experience_weighted +\n",
    "        d_maturity_weighted +\n",
    "        d_profile_weighted +\n",
    "        d_friend_weighted\n",
    "    )\n",
    "    return total_distance\n"
   ]
  },
  {
   "cell_type": "code",
   "execution_count": 132,
   "metadata": {},
   "outputs": [
    {
     "data": {
      "text/html": [
       "<pre style=\"white-space:pre;overflow-x:auto;line-height:normal;font-family:Menlo,'DejaVu Sans Mono',consolas,'Courier New',monospace\"><span style=\"color: #008080; text-decoration-color: #008080; font-weight: bold\">1.2166170142336974</span>\n",
       "</pre>\n"
      ],
      "text/plain": [
       "\u001b[1;36m1.2166170142336974\u001b[0m\n"
      ]
     },
     "metadata": {},
     "output_type": "display_data"
    }
   ],
   "source": [
    "participant1 = participants_dict['2ebad15c-c0ef-4c04-ba98-c5d98403a90c']\n",
    "participant2 = participants_dict['2ebad15c-c0ef-4c04-ba98-c5d98403a90c']\n",
    "min_values, max_values = get_min_max_values(participants_dict, weights)\n",
    "total_normalized_distance = combined_distance(participant1, participant2, weights, min_values, max_values)\n",
    "print(total_normalized_distance)\n"
   ]
  },
  {
   "cell_type": "code",
   "execution_count": 134,
   "metadata": {},
   "outputs": [
    {
     "data": {
      "text/plain": [
       "{'university': 199999.80000000002,\n",
       " 'interests': 3.6,\n",
       " 'preferred_role': 1.5,\n",
       " 'availability': 0.5,\n",
       " 'programming_skills': 0.6493589743589744,\n",
       " 'interests_in_challenges': 0.15000000000000002,\n",
       " 'languages': 49999.950000000004,\n",
       " 'experience': 1.1512925464970232,\n",
       " 'maturity': 1.05,\n",
       " 'profile': 0.07623779747805691,\n",
       " 'friends': 10}"
      ]
     },
     "execution_count": 134,
     "metadata": {},
     "output_type": "execute_result"
    }
   ],
   "source": [
    "max_values"
   ]
  }
 ],
 "metadata": {
  "kernelspec": {
   "display_name": "Python 3",
   "language": "python",
   "name": "python3"
  },
  "language_info": {
   "codemirror_mode": {
    "name": "ipython",
    "version": 3
   },
   "file_extension": ".py",
   "mimetype": "text/x-python",
   "name": "python",
   "nbconvert_exporter": "python",
   "pygments_lexer": "ipython3",
   "version": "3.11.9"
  }
 },
 "nbformat": 4,
 "nbformat_minor": 2
}
