{
 "cells": [
  {
   "cell_type": "code",
   "execution_count": 8,
   "metadata": {},
   "outputs": [],
   "source": [
    "#!pip3 install pulp\n",
    "#!pip install csv"
   ]
  },
  {
   "cell_type": "code",
   "execution_count": 9,
   "metadata": {},
   "outputs": [],
   "source": [
    "import pulp\n",
    "import pandas as pd\n",
    "import csv\n",
    "import itertools"
   ]
  },
  {
   "cell_type": "code",
   "execution_count": 10,
   "metadata": {},
   "outputs": [],
   "source": [
    "df = pd.read_csv(\"clean_data_actualitzat.csv\")\n",
    "\n",
    "\n",
    "distances = []\n",
    "\n",
    "with open('distance_matrix.csv', 'r') as fitxer:\n",
    "    lector = csv.reader(fitxer, delimiter=',')\n",
    "    for fila in lector:\n",
    "        # Si vols convertir els valors a números enters o flotants\n",
    "        distances.append([float(element) for element in fila])"
   ]
  },
  {
   "cell_type": "code",
   "execution_count": 11,
   "metadata": {},
   "outputs": [],
   "source": [
    "df_4 = df[(df['preferred_team_size'] == 4) | (df['preferred_team_size'] == 0)]\n",
    "df_3 = df[df['preferred_team_size'] == 3]\n",
    "df_2 = df[df['preferred_team_size'] == 2]\n",
    "df_1 = df[df['preferred_team_size'] == 1]"
   ]
  },
  {
   "cell_type": "code",
   "execution_count": 12,
   "metadata": {},
   "outputs": [
    {
     "name": "stdout",
     "output_type": "stream",
     "text": [
      "924\n",
      "801\n",
      "98\n",
      "19\n",
      "6\n"
     ]
    }
   ],
   "source": [
    "n = len(df)\n",
    "n4 = len(df_4)\n",
    "n3 = len(df_3)\n",
    "n2 = len(df_2)\n",
    "n1 = len(df_1)\n",
    "\n",
    "print(n)\n",
    "print(n4)\n",
    "print(n3)\n",
    "print(n2)\n",
    "print(n1)\n",
    "\n",
    "\n",
    "persones = list(range(n4))"
   ]
  },
  {
   "cell_type": "markdown",
   "metadata": {},
   "source": [
    "## CLUSTERITZACIÓ 4"
   ]
  },
  {
   "cell_type": "code",
   "execution_count": 13,
   "metadata": {},
   "outputs": [],
   "source": [
    "mida_grup = 4\n",
    "num_grups = n4 // mida_grup\n",
    "\n",
    "while n4 % mida_grup != 0:\n",
    "    random_row = df_3.sample(n=1)\n",
    "    df2 = pd.concat([df_4, random_row], ignore_index=True)\n",
    "    df1 = df_3.drop(random_row.index)\n",
    "\n",
    "    n4 += 1\n",
    "    n3 -= 1\n",
    "\n",
    "num_grups = n4 // mida_grup\n",
    "\n",
    "\n",
    "individuals = range(n4)\n",
    "clusters = range(num_grups)\n"
   ]
  },
  {
   "cell_type": "code",
   "execution_count": 14,
   "metadata": {},
   "outputs": [
    {
     "ename": "",
     "evalue": "",
     "output_type": "error",
     "traceback": [
      "\u001b[1;31mThe Kernel crashed while executing code in the current cell or a previous cell. \n",
      "\u001b[1;31mPlease review the code in the cell(s) to identify a possible cause of the failure. \n",
      "\u001b[1;31mClick <a href='https://aka.ms/vscodeJupyterKernelCrash'>here</a> for more info. \n",
      "\u001b[1;31mView Jupyter <a href='command:jupyter.viewOutput'>log</a> for further details."
     ]
    }
   ],
   "source": [
    "prob = pulp.LpProblem(\"ClusteringProblem\", pulp.LpMinimize)\n",
    "\n",
    "# Decision variables\n",
    "X = pulp.LpVariable.dicts(\n",
    "    \"X\", (individuals, clusters), cat=\"Binary\"\n",
    ")\n",
    "Y = pulp.LpVariable.dicts(\n",
    "    \"Y\", ([(i, j) for i in individuals for j in individuals if i < j], clusters), cat=\"Binary\"\n",
    ")\n",
    "\n",
    "# Constraints\n",
    "# Each individual is assigned to exactly one cluster\n",
    "for i in individuals:\n",
    "    prob += pulp.lpSum(X[i][k] for k in clusters) == 1, f\"Assignment_{i}\"\n",
    "\n",
    "# Each cluster has exactly 'cluster_size' individuals\n",
    "for k in clusters:\n",
    "    prob += pulp.lpSum(X[i][k] for i in individuals) == mida_grup, f\"ClusterSize_{k}\"\n",
    "\n",
    "# Linearization constraints for Y_{ijk} = X_{ik} * X_{jk}\n",
    "for (i, j) in itertools.combinations(individuals, 2):\n",
    "    for k in clusters:\n",
    "        prob += Y[(i, j)][k] <= X[i][k], f\"YleX_{i}_{j}_{k}_1\"\n",
    "        prob += Y[(i, j)][k] <= X[j][k], f\"YleX_{i}_{j}_{k}_2\"\n",
    "        prob += Y[(i, j)][k] >= X[i][k] + X[j][k] - 1, f\"YgeX_{i}_{j}_{k}\"\n",
    "\n",
    "# Objective function\n",
    "prob += pulp.lpSum(\n",
    "    distances[i][j] * Y[(i, j)][k]\n",
    "    for (i, j) in itertools.combinations(individuals, 2)\n",
    "    for k in clusters\n",
    "), \"TotalSquaredDistance\"\n",
    "\n",
    "\n",
    "solver = pulp.CPLEX_CMD(options=['miplimits/iterlim=10000'], msg=True) \n",
    "\n",
    "prob.solve(solver)"
   ]
  },
  {
   "cell_type": "markdown",
   "metadata": {},
   "source": [
    "Problema d'optimització"
   ]
  },
  {
   "cell_type": "code",
   "execution_count": null,
   "metadata": {},
   "outputs": [
    {
     "data": {
      "text/plain": [
       "x_(0,_0)"
      ]
     },
     "execution_count": 38,
     "metadata": {},
     "output_type": "execute_result"
    }
   ],
   "source": [
    "x[0,0]"
   ]
  },
  {
   "cell_type": "code",
   "execution_count": null,
   "metadata": {},
   "outputs": [
    {
     "ename": "TypeError",
     "evalue": "Non-constant expressions cannot be multiplied",
     "output_type": "error",
     "traceback": [
      "\u001b[1;31m---------------------------------------------------------------------------\u001b[0m",
      "\u001b[1;31mTypeError\u001b[0m                                 Traceback (most recent call last)",
      "Cell \u001b[1;32mIn[39], line 4\u001b[0m\n\u001b[0;32m      1\u001b[0m optim \u001b[38;5;241m=\u001b[39m pulp\u001b[38;5;241m.\u001b[39mLpProblem(\u001b[38;5;124m\"\u001b[39m\u001b[38;5;124mClustering_de_Persones\u001b[39m\u001b[38;5;124m\"\u001b[39m, pulp\u001b[38;5;241m.\u001b[39mLpMinimize)\n\u001b[0;32m      3\u001b[0m \u001b[38;5;66;03m# Funció objectiu\u001b[39;00m\n\u001b[1;32m----> 4\u001b[0m optim \u001b[38;5;241m+\u001b[39m\u001b[38;5;241m=\u001b[39m \u001b[43mpulp\u001b[49m\u001b[38;5;241;43m.\u001b[39;49m\u001b[43mlpSum\u001b[49m\u001b[43m(\u001b[49m\u001b[43mdistances\u001b[49m\u001b[43m[\u001b[49m\u001b[43mi\u001b[49m\u001b[43m]\u001b[49m\u001b[43m[\u001b[49m\u001b[43mk\u001b[49m\u001b[43m]\u001b[49m\u001b[43m \u001b[49m\u001b[38;5;241;43m*\u001b[39;49m\u001b[43m \u001b[49m\u001b[43mx\u001b[49m\u001b[43m[\u001b[49m\u001b[43mi\u001b[49m\u001b[43m,\u001b[49m\u001b[43m \u001b[49m\u001b[43mj\u001b[49m\u001b[43m]\u001b[49m\u001b[43m \u001b[49m\u001b[38;5;241;43m*\u001b[39;49m\u001b[43m \u001b[49m\u001b[43mx\u001b[49m\u001b[43m[\u001b[49m\u001b[43mk\u001b[49m\u001b[43m,\u001b[49m\u001b[43m \u001b[49m\u001b[43mj\u001b[49m\u001b[43m]\u001b[49m\u001b[43m \u001b[49m\u001b[38;5;28;43;01mfor\u001b[39;49;00m\u001b[43m \u001b[49m\u001b[43mj\u001b[49m\u001b[43m \u001b[49m\u001b[38;5;129;43;01min\u001b[39;49;00m\u001b[43m \u001b[49m\u001b[38;5;28;43mrange\u001b[39;49m\u001b[43m(\u001b[49m\u001b[43mnum_grups\u001b[49m\u001b[43m)\u001b[49m\u001b[43m \u001b[49m\u001b[38;5;28;43;01mfor\u001b[39;49;00m\u001b[43m \u001b[49m\u001b[43mi\u001b[49m\u001b[43m \u001b[49m\u001b[38;5;129;43;01min\u001b[39;49;00m\u001b[43m \u001b[49m\u001b[43mpersones\u001b[49m\u001b[43m \u001b[49m\u001b[38;5;28;43;01mfor\u001b[39;49;00m\u001b[43m \u001b[49m\u001b[43mk\u001b[49m\u001b[43m \u001b[49m\u001b[38;5;129;43;01min\u001b[39;49;00m\u001b[43m \u001b[49m\u001b[43mpersones\u001b[49m\u001b[43m \u001b[49m\u001b[38;5;28;43;01mif\u001b[39;49;00m\u001b[43m \u001b[49m\u001b[43mi\u001b[49m\u001b[43m \u001b[49m\u001b[38;5;241;43m<\u001b[39;49m\u001b[43m \u001b[49m\u001b[43mk\u001b[49m\u001b[43m)\u001b[49m\n",
      "File \u001b[1;32md:\\Github\\Datathon2024-GroupCreation\\.venv\\Lib\\site-packages\\pulp\\pulp.py:2233\u001b[0m, in \u001b[0;36mlpSum\u001b[1;34m(vector)\u001b[0m\n\u001b[0;32m   2227\u001b[0m \u001b[38;5;28;01mdef\u001b[39;00m \u001b[38;5;21mlpSum\u001b[39m(vector):\n\u001b[0;32m   2228\u001b[0m \u001b[38;5;250m    \u001b[39m\u001b[38;5;124;03m\"\"\"\u001b[39;00m\n\u001b[0;32m   2229\u001b[0m \u001b[38;5;124;03m    Calculate the sum of a list of linear expressions\u001b[39;00m\n\u001b[0;32m   2230\u001b[0m \n\u001b[0;32m   2231\u001b[0m \u001b[38;5;124;03m    :param vector: A list of linear expressions\u001b[39;00m\n\u001b[0;32m   2232\u001b[0m \u001b[38;5;124;03m    \"\"\"\u001b[39;00m\n\u001b[1;32m-> 2233\u001b[0m     \u001b[38;5;28;01mreturn\u001b[39;00m \u001b[43mLpAffineExpression\u001b[49m\u001b[43m(\u001b[49m\u001b[43m)\u001b[49m\u001b[38;5;241;43m.\u001b[39;49m\u001b[43maddInPlace\u001b[49m\u001b[43m(\u001b[49m\u001b[43mvector\u001b[49m\u001b[43m)\u001b[49m\n",
      "File \u001b[1;32md:\\Github\\Datathon2024-GroupCreation\\.venv\\Lib\\site-packages\\pulp\\pulp.py:867\u001b[0m, in \u001b[0;36mLpAffineExpression.addInPlace\u001b[1;34m(self, other, sign)\u001b[0m\n\u001b[0;32m    864\u001b[0m         \u001b[38;5;28mself\u001b[39m\u001b[38;5;241m.\u001b[39maddInPlace(e, sign\u001b[38;5;241m=\u001b[39msign)\n\u001b[0;32m    865\u001b[0m \u001b[38;5;28;01melif\u001b[39;00m \u001b[38;5;28misinstance\u001b[39m(other, \u001b[38;5;28mlist\u001b[39m) \u001b[38;5;129;01mor\u001b[39;00m \u001b[38;5;28misinstance\u001b[39m(other, Iterable):\n\u001b[0;32m    866\u001b[0m     \u001b[38;5;66;03m# if a list, we add each element of the list\u001b[39;00m\n\u001b[1;32m--> 867\u001b[0m \u001b[43m    \u001b[49m\u001b[38;5;28;43;01mfor\u001b[39;49;00m\u001b[43m \u001b[49m\u001b[43me\u001b[49m\u001b[43m \u001b[49m\u001b[38;5;129;43;01min\u001b[39;49;00m\u001b[43m \u001b[49m\u001b[43mother\u001b[49m\u001b[43m:\u001b[49m\n\u001b[0;32m    868\u001b[0m \u001b[43m        \u001b[49m\u001b[38;5;28;43mself\u001b[39;49m\u001b[38;5;241;43m.\u001b[39;49m\u001b[43maddInPlace\u001b[49m\u001b[43m(\u001b[49m\u001b[43me\u001b[49m\u001b[43m,\u001b[49m\u001b[43m \u001b[49m\u001b[43msign\u001b[49m\u001b[38;5;241;43m=\u001b[39;49m\u001b[43msign\u001b[49m\u001b[43m)\u001b[49m\n\u001b[0;32m    869\u001b[0m \u001b[38;5;66;03m# if we're here, other must be a number\u001b[39;00m\n\u001b[0;32m    870\u001b[0m \u001b[38;5;66;03m# we check if it's an actual number:\u001b[39;00m\n",
      "Cell \u001b[1;32mIn[39], line 4\u001b[0m, in \u001b[0;36m<genexpr>\u001b[1;34m(.0)\u001b[0m\n\u001b[0;32m      1\u001b[0m optim \u001b[38;5;241m=\u001b[39m pulp\u001b[38;5;241m.\u001b[39mLpProblem(\u001b[38;5;124m\"\u001b[39m\u001b[38;5;124mClustering_de_Persones\u001b[39m\u001b[38;5;124m\"\u001b[39m, pulp\u001b[38;5;241m.\u001b[39mLpMinimize)\n\u001b[0;32m      3\u001b[0m \u001b[38;5;66;03m# Funció objectiu\u001b[39;00m\n\u001b[1;32m----> 4\u001b[0m optim \u001b[38;5;241m+\u001b[39m\u001b[38;5;241m=\u001b[39m pulp\u001b[38;5;241m.\u001b[39mlpSum(\u001b[43mdistances\u001b[49m\u001b[43m[\u001b[49m\u001b[43mi\u001b[49m\u001b[43m]\u001b[49m\u001b[43m[\u001b[49m\u001b[43mk\u001b[49m\u001b[43m]\u001b[49m\u001b[43m \u001b[49m\u001b[38;5;241;43m*\u001b[39;49m\u001b[43m \u001b[49m\u001b[43mx\u001b[49m\u001b[43m[\u001b[49m\u001b[43mi\u001b[49m\u001b[43m,\u001b[49m\u001b[43m \u001b[49m\u001b[43mj\u001b[49m\u001b[43m]\u001b[49m\u001b[43m \u001b[49m\u001b[38;5;241;43m*\u001b[39;49m\u001b[43m \u001b[49m\u001b[43mx\u001b[49m\u001b[43m[\u001b[49m\u001b[43mk\u001b[49m\u001b[43m,\u001b[49m\u001b[43m \u001b[49m\u001b[43mj\u001b[49m\u001b[43m]\u001b[49m \u001b[38;5;28;01mfor\u001b[39;00m j \u001b[38;5;129;01min\u001b[39;00m \u001b[38;5;28mrange\u001b[39m(num_grups) \u001b[38;5;28;01mfor\u001b[39;00m i \u001b[38;5;129;01min\u001b[39;00m persones \u001b[38;5;28;01mfor\u001b[39;00m k \u001b[38;5;129;01min\u001b[39;00m persones \u001b[38;5;28;01mif\u001b[39;00m i \u001b[38;5;241m<\u001b[39m k)\n",
      "File \u001b[1;32md:\\Github\\Datathon2024-GroupCreation\\.venv\\Lib\\site-packages\\pulp\\pulp.py:927\u001b[0m, in \u001b[0;36mLpAffineExpression.__mul__\u001b[1;34m(self, other)\u001b[0m\n\u001b[0;32m    925\u001b[0m                 e[v] \u001b[38;5;241m=\u001b[39m c \u001b[38;5;241m*\u001b[39m x\n\u001b[0;32m    926\u001b[0m \u001b[38;5;28;01melif\u001b[39;00m \u001b[38;5;28misinstance\u001b[39m(other, LpVariable):\n\u001b[1;32m--> 927\u001b[0m     \u001b[38;5;28;01mreturn\u001b[39;00m \u001b[38;5;28;43mself\u001b[39;49m\u001b[43m \u001b[49m\u001b[38;5;241;43m*\u001b[39;49m\u001b[43m \u001b[49m\u001b[43mLpAffineExpression\u001b[49m\u001b[43m(\u001b[49m\u001b[43mother\u001b[49m\u001b[43m)\u001b[49m\n\u001b[0;32m    928\u001b[0m \u001b[38;5;28;01melse\u001b[39;00m:\n\u001b[0;32m    929\u001b[0m     \u001b[38;5;28;01mif\u001b[39;00m \u001b[38;5;129;01mnot\u001b[39;00m math\u001b[38;5;241m.\u001b[39misfinite(other):\n",
      "File \u001b[1;32md:\\Github\\Datathon2024-GroupCreation\\.venv\\Lib\\site-packages\\pulp\\pulp.py:915\u001b[0m, in \u001b[0;36mLpAffineExpression.__mul__\u001b[1;34m(self, other)\u001b[0m\n\u001b[0;32m    913\u001b[0m \u001b[38;5;28;01mif\u001b[39;00m \u001b[38;5;28mlen\u001b[39m(other):\n\u001b[0;32m    914\u001b[0m     \u001b[38;5;28;01mif\u001b[39;00m \u001b[38;5;28mlen\u001b[39m(\u001b[38;5;28mself\u001b[39m):\n\u001b[1;32m--> 915\u001b[0m         \u001b[38;5;28;01mraise\u001b[39;00m \u001b[38;5;167;01mTypeError\u001b[39;00m(\u001b[38;5;124m\"\u001b[39m\u001b[38;5;124mNon-constant expressions cannot be multiplied\u001b[39m\u001b[38;5;124m\"\u001b[39m)\n\u001b[0;32m    916\u001b[0m     \u001b[38;5;28;01melse\u001b[39;00m:\n\u001b[0;32m    917\u001b[0m         c \u001b[38;5;241m=\u001b[39m \u001b[38;5;28mself\u001b[39m\u001b[38;5;241m.\u001b[39mconstant\n",
      "\u001b[1;31mTypeError\u001b[0m: Non-constant expressions cannot be multiplied"
     ]
    }
   ],
   "source": [
    "optim = pulp.LpProblem(\"Clustering_de_Persones\", pulp.LpMinimize)\n",
    "\n",
    "# Funció objectiu\n",
    "optim += pulp.lpSum()"
   ]
  },
  {
   "cell_type": "markdown",
   "metadata": {},
   "source": [
    "## Restriccions"
   ]
  },
  {
   "cell_type": "markdown",
   "metadata": {},
   "source": [
    "Restricció 1: Cada persona ha d'estar en un únic grup"
   ]
  },
  {
   "cell_type": "code",
   "execution_count": null,
   "metadata": {},
   "outputs": [],
   "source": [
    "for i in df_4:\n",
    "    optim += pulp.lpSum(x[i, j] for j in range(num_grups)) == 1"
   ]
  },
  {
   "cell_type": "markdown",
   "metadata": {},
   "source": [
    "Restricció 2: Cada grup ha de tenir exactament 4 persones (o menys si hi ha persones sobrants)\n"
   ]
  },
  {
   "cell_type": "code",
   "execution_count": null,
   "metadata": {},
   "outputs": [],
   "source": [
    "for j in range(num_grups):\n",
    "    optim += pulp.lpSum(x[i, j] for i in df_4) <= mida_grup\n",
    "    optim += pulp.lpSum(x[i, j] for i in df_4) >= mida_grup\n"
   ]
  },
  {
   "cell_type": "code",
   "execution_count": null,
   "metadata": {},
   "outputs": [],
   "source": [
    "optim.solve()"
   ]
  },
  {
   "cell_type": "code",
   "execution_count": null,
   "metadata": {},
   "outputs": [],
   "source": [
    "from collections import defaultdict\n",
    "\n",
    "grups = defaultdict(list)\n",
    "for i in df_4:\n",
    "    for j in range(num_grups):\n",
    "        if pulp.value(x[i, j]) == 1:\n",
    "            grups[j].append(i)\n",
    "\n",
    "# Imprimir els grups\n",
    "for j in sorted(grups):\n",
    "    print(f\"Grup {j+1}: {grups[j]}\")"
   ]
  },
  {
   "cell_type": "code",
   "execution_count": null,
   "metadata": {},
   "outputs": [],
   "source": [
    "print(\"Status:\", pulp.LpStatus[optim.status])\n",
    "print(\"Cost total:\", pulp.value(optim.objective))"
   ]
  }
 ],
 "metadata": {
  "kernelspec": {
   "display_name": ".venv",
   "language": "python",
   "name": "python3"
  },
  "language_info": {
   "codemirror_mode": {
    "name": "ipython",
    "version": 3
   },
   "file_extension": ".py",
   "mimetype": "text/x-python",
   "name": "python",
   "nbconvert_exporter": "python",
   "pygments_lexer": "ipython3",
   "version": "3.11.5"
  }
 },
 "nbformat": 4,
 "nbformat_minor": 2
}
