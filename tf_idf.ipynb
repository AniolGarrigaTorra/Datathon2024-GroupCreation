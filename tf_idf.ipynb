{
 "cells": [
  {
   "cell_type": "markdown",
   "metadata": {},
   "source": [
    "### Imports"
   ]
  },
  {
   "cell_type": "code",
   "execution_count": 103,
   "metadata": {},
   "outputs": [],
   "source": [
    "import tqdm\n",
    "import numpy as np\n",
    "import pickle\n",
    "from rich import print\n",
    "import heapq\n",
    "import uuid\n",
    "from pprint import pprint\n",
    "from collections import Counter, defaultdict\n",
    "from elasticsearch import Elasticsearch\n",
    "from elasticsearch.helpers import scan\n",
    "from elasticsearch_dsl import Search, Index, analyzer, tokenizer\n",
    "from elasticsearch_dsl.query import Q"
   ]
  },
  {
   "cell_type": "markdown",
   "metadata": {},
   "source": [
    "### TF-IDF"
   ]
  },
  {
   "cell_type": "code",
   "execution_count": 104,
   "metadata": {},
   "outputs": [
    {
     "data": {
      "text/html": [
       "<pre style=\"white-space:pre;overflow-x:auto;line-height:normal;font-family:Menlo,'DejaVu Sans Mono',consolas,'Courier New',monospace\">There are <span style=\"color: #008080; text-decoration-color: #008080; font-weight: bold\">924</span> documents in the index <span style=\"color: #008000; text-decoration-color: #008000\">'technical_ind'</span>\n",
       "</pre>\n"
      ],
      "text/plain": [
       "There are \u001b[1;36m924\u001b[0m documents in the index \u001b[32m'technical_ind'\u001b[0m\n"
      ]
     },
     "metadata": {},
     "output_type": "display_data"
    },
    {
     "name": "stderr",
     "output_type": "stream",
     "text": [
      "100%|██████████| 924/924 [00:01<00:00, 473.90it/s]\n"
     ]
    },
    {
     "data": {
      "text/html": [
       "<pre style=\"white-space:pre;overflow-x:auto;line-height:normal;font-family:Menlo,'DejaVu Sans Mono',consolas,'Courier New',monospace\">There are <span style=\"color: #008080; text-decoration-color: #008080; font-weight: bold\">924</span> documents in the index <span style=\"color: #008000; text-decoration-color: #008000\">'objective_ind'</span>\n",
       "</pre>\n"
      ],
      "text/plain": [
       "There are \u001b[1;36m924\u001b[0m documents in the index \u001b[32m'objective_ind'\u001b[0m\n"
      ]
     },
     "metadata": {},
     "output_type": "display_data"
    },
    {
     "name": "stderr",
     "output_type": "stream",
     "text": [
      "100%|██████████| 924/924 [00:01<00:00, 480.71it/s]\n"
     ]
    }
   ],
   "source": [
    "from elasticsearch import Elasticsearch\n",
    "client = Elasticsearch(\"http://localhost:9200\", request_timeout=1000)\n",
    "\n",
    "index_names = ['technical_ind', 'objective_ind']\n",
    "corpuses = {'technical_ind':{}, 'objective_ind':{}}\n",
    "for index_name in index_names:\n",
    "    ndocs = int(client.cat.count(index=index_name, format = \"json\")[0]['count'])\n",
    "    print(f\"There are {ndocs} documents in the index '{index_name}'\")\n",
    "\n",
    "\n",
    "    corpus = corpuses[index_name]    # will store _normalized_ tfidf for each document, key is internal elasticsearch id, value is dictionary of term -> tf-idf weight\n",
    "    for s in tqdm.tqdm(scan(client, index=index_name, query={\"query\" : {\"match_all\": {}}}), total=ndocs):\n",
    "        terms = []\n",
    "        freqs = []\n",
    "        dfs = []\n",
    "\n",
    "        tv = client.termvectors(index=index_name, id=s['_id'], fields=['text'], term_statistics=True, positions=False)\n",
    "        if 'text' in tv['term_vectors']:   # just in case some document has no field named 'text'\n",
    "            for t in tv['term_vectors']['text']['terms']:\n",
    "                f = tv['term_vectors']['text']['terms'][t]['term_freq']\n",
    "\n",
    "                terms.append(t)\n",
    "                freqs.append(tv['term_vectors']['text']['terms'][t]['term_freq'])\n",
    "                dfs.append(tv['term_vectors']['text']['terms'][t]['doc_freq'])\n",
    "\n",
    "        # vector computations for tf-idf; l2-normalized for further calculations..\n",
    "        tfidf = np.array(freqs) * np.log2(ndocs / np.array(dfs))\n",
    "        tfidf /= np.linalg.norm(tfidf)\n",
    "\n",
    "        # save in corpus dictionary\n",
    "        corpus[s['_source']['path']] = {t: tfidf[j] for j, t in enumerate(terms)}\n",
    "\n"
   ]
  },
  {
   "cell_type": "markdown",
   "metadata": {},
   "source": [
    "#### Basic functions"
   ]
  },
  {
   "cell_type": "code",
   "execution_count": 108,
   "metadata": {},
   "outputs": [],
   "source": [
    "def norm(d: list[tuple[str, float]]) -> float:\n",
    "    return np.sqrt(sum([freq*freq for _, freq in d]))\n",
    "\n",
    "\n",
    "def normalize(d1: list[tuple[str, float]]):\n",
    "    normm = norm(d1)\n",
    "    return [(k, v/normm) for k, v in d1]\n",
    "\n",
    "def stemmer(query: str) -> str:\n",
    "    res = ind.analyze(body={'analyzer':'default', 'text': query})\n",
    "    query_stemmed = ''\n",
    "    first = True\n",
    "    for r in res['tokens']:\n",
    "        if not first:\n",
    "            query_stemmed += ' ' + r['token']\n",
    "        else:\n",
    "            query_stemmed += r['token']\n",
    "            first = False\n",
    "    return query_stemmed"
   ]
  },
  {
   "cell_type": "markdown",
   "metadata": {},
   "source": [
    "### Objective_ind similarities"
   ]
  },
  {
   "cell_type": "code",
   "execution_count": 132,
   "metadata": {},
   "outputs": [
    {
     "name": "stderr",
     "output_type": "stream",
     "text": [
      "  0%|          | 0/924 [00:00<?, ?it/s]"
     ]
    },
    {
     "name": "stderr",
     "output_type": "stream",
     "text": [
      "100%|██████████| 924/924 [00:00<00:00, 25174.32it/s]\n"
     ]
    }
   ],
   "source": [
    "from elasticsearch.helpers import scan\n",
    "from pprint import pprint\n",
    "from elasticsearch import Elasticsearch\n",
    "import tqdm\n",
    "import numpy as np\n",
    "\n",
    "client = Elasticsearch(\"http://localhost:9200\", request_timeout=1000)\n",
    "\n",
    "r = 10  # only return r top docs\n",
    "queries = ['win prize many top dive trophy limit victory','learn skills dive improve gain experience', 'first try begin people knowledge start','level experiment journey collaborate experience']\n",
    "sims_ob : dict[str, dict[int,float]] = {}\n",
    "\n",
    "l2query  = [np.sqrt(len(query.split())) for query in queries]  # l2 of query assuming 0-1 vector representation\n",
    "\n",
    "# get nr. of docs; just for the progress bar\n",
    "ndocs = int(client.cat.count(index='objective_ind', format = \"json\")[0]['count'])\n",
    "\n",
    "# scan through docs, compute cosine sim between query and each doc\n",
    "for s in tqdm.tqdm(scan(client, index='objective_ind', query={\"query\" : {\"match_all\": {}}}), total=ndocs):\n",
    "    \n",
    "    docid = s['_source']['path']   # use path as id\n",
    "    weights = corpuses['objective_ind'][docid]   # gets weights as a python dict of term -> weight (see remark above)\n",
    "    docid = docid.split('/')[-1].replace('.txt', '')\n",
    "    sims_ob[docid] = {}\n",
    "    for i in range(len(queries)):\n",
    "        sims_ob[docid][i] = 0.0\n",
    "        for w in queries[i].split():  # gets terms as a list\n",
    "            if w in weights:    # probably need to do something fancier to make sure that word is in vocabulary etc.\n",
    "                sims_ob[docid][i] += weights[w]   # accumulates if w in current doc\n",
    "        # normalize sim\n",
    "        sims_ob[docid][i] /= l2query[i]\n",
    "\n",
    "# now sort by cosine similarity\n",
    "#sorted_answer = sorted(sims.items(), key=lambda kv: kv[1], reverse=True)\n",
    "\n",
    "#pprint(sorted_answer[:r])\n"
   ]
  },
  {
   "cell_type": "markdown",
   "metadata": {},
   "source": [
    "#### Print de les sims"
   ]
  },
  {
   "cell_type": "code",
   "execution_count": 138,
   "metadata": {},
   "outputs": [
    {
     "data": {
      "text/html": [
       "<pre style=\"white-space:pre;overflow-x:auto;line-height:normal;font-family:Menlo,'DejaVu Sans Mono',consolas,'Courier New',monospace\">OBJECTIVE INDEX\n",
       "</pre>\n"
      ],
      "text/plain": [
       "OBJECTIVE INDEX\n"
      ]
     },
     "metadata": {},
     "output_type": "display_data"
    },
    {
     "data": {
      "text/html": [
       "<pre style=\"white-space:pre;overflow-x:auto;line-height:normal;font-family:Menlo,'DejaVu Sans Mono',consolas,'Courier New',monospace\"><span style=\"color: #ffff00; text-decoration-color: #ffff00\">141e6274-1c50-4244-bb4a-22e11023e6a7</span>\n",
       "<span style=\"font-weight: bold\">{</span><span style=\"color: #008080; text-decoration-color: #008080; font-weight: bold\">0</span>: <span style=\"color: #008080; text-decoration-color: #008080; font-weight: bold\">0.022050362701892524</span>, <span style=\"color: #008080; text-decoration-color: #008080; font-weight: bold\">1</span>: <span style=\"color: #008080; text-decoration-color: #008080; font-weight: bold\">0.03815377561542171</span>, <span style=\"color: #008080; text-decoration-color: #008080; font-weight: bold\">2</span>: <span style=\"color: #008080; text-decoration-color: #008080; font-weight: bold\">0.11129958890849673</span>, <span style=\"color: #008080; text-decoration-color: #008080; font-weight: bold\">3</span>: <span style=\"color: #008080; text-decoration-color: #008080; font-weight: bold\">0.0</span><span style=\"font-weight: bold\">}</span>\n",
       "</pre>\n"
      ],
      "text/plain": [
       "\u001b[93m141e6274-1c50-4244-bb4a-22e11023e6a7\u001b[0m\n",
       "\u001b[1m{\u001b[0m\u001b[1;36m0\u001b[0m: \u001b[1;36m0.022050362701892524\u001b[0m, \u001b[1;36m1\u001b[0m: \u001b[1;36m0.03815377561542171\u001b[0m, \u001b[1;36m2\u001b[0m: \u001b[1;36m0.11129958890849673\u001b[0m, \u001b[1;36m3\u001b[0m: \u001b[1;36m0.0\u001b[0m\u001b[1m}\u001b[0m\n"
      ]
     },
     "metadata": {},
     "output_type": "display_data"
    },
    {
     "data": {
      "text/html": [
       "<pre style=\"white-space:pre;overflow-x:auto;line-height:normal;font-family:Menlo,'DejaVu Sans Mono',consolas,'Courier New',monospace\"><span style=\"color: #ffff00; text-decoration-color: #ffff00\">65327c02-6a7b-4ff6-874a-ea0a1466b207</span>\n",
       "<span style=\"font-weight: bold\">{</span><span style=\"color: #008080; text-decoration-color: #008080; font-weight: bold\">0</span>: <span style=\"color: #008080; text-decoration-color: #008080; font-weight: bold\">0.019572643415062426</span>, <span style=\"color: #008080; text-decoration-color: #008080; font-weight: bold\">1</span>: <span style=\"color: #008080; text-decoration-color: #008080; font-weight: bold\">0.015311247921908612</span>, <span style=\"color: #008080; text-decoration-color: #008080; font-weight: bold\">2</span>: <span style=\"color: #008080; text-decoration-color: #008080; font-weight: bold\">0.12114687139681465</span>, <span style=\"color: #008080; text-decoration-color: #008080; font-weight: bold\">3</span>: <span style=\"color: #008080; text-decoration-color: #008080; font-weight: bold\">0.0</span><span style=\"font-weight: bold\">}</span>\n",
       "</pre>\n"
      ],
      "text/plain": [
       "\u001b[93m65327c02-6a7b-4ff6-874a-ea0a1466b207\u001b[0m\n",
       "\u001b[1m{\u001b[0m\u001b[1;36m0\u001b[0m: \u001b[1;36m0.019572643415062426\u001b[0m, \u001b[1;36m1\u001b[0m: \u001b[1;36m0.015311247921908612\u001b[0m, \u001b[1;36m2\u001b[0m: \u001b[1;36m0.12114687139681465\u001b[0m, \u001b[1;36m3\u001b[0m: \u001b[1;36m0.0\u001b[0m\u001b[1m}\u001b[0m\n"
      ]
     },
     "metadata": {},
     "output_type": "display_data"
    },
    {
     "data": {
      "text/html": [
       "<pre style=\"white-space:pre;overflow-x:auto;line-height:normal;font-family:Menlo,'DejaVu Sans Mono',consolas,'Courier New',monospace\"><span style=\"color: #ffff00; text-decoration-color: #ffff00\">e2765a27-7bc1-4ac1-979e-cfc1f9c561b1</span>\n",
       "<span style=\"font-weight: bold\">{</span><span style=\"color: #008080; text-decoration-color: #008080; font-weight: bold\">0</span>: <span style=\"color: #008080; text-decoration-color: #008080; font-weight: bold\">0.023807990508077755</span>, <span style=\"color: #008080; text-decoration-color: #008080; font-weight: bold\">1</span>: <span style=\"color: #008080; text-decoration-color: #008080; font-weight: bold\">0.034343050549433596</span>, <span style=\"color: #008080; text-decoration-color: #008080; font-weight: bold\">2</span>: <span style=\"color: #008080; text-decoration-color: #008080; font-weight: bold\">0.11197312302062618</span>, <span style=\"color: #008080; text-decoration-color: #008080; font-weight: bold\">3</span>: <span style=\"color: #008080; text-decoration-color: #008080; font-weight: bold\">0.02023049121600956</span><span style=\"font-weight: bold\">}</span>\n",
       "</pre>\n"
      ],
      "text/plain": [
       "\u001b[93me2765a27-7bc1-4ac1-979e-cfc1f9c561b1\u001b[0m\n",
       "\u001b[1m{\u001b[0m\u001b[1;36m0\u001b[0m: \u001b[1;36m0.023807990508077755\u001b[0m, \u001b[1;36m1\u001b[0m: \u001b[1;36m0.034343050549433596\u001b[0m, \u001b[1;36m2\u001b[0m: \u001b[1;36m0.11197312302062618\u001b[0m, \u001b[1;36m3\u001b[0m: \u001b[1;36m0.02023049121600956\u001b[0m\u001b[1m}\u001b[0m\n"
      ]
     },
     "metadata": {},
     "output_type": "display_data"
    },
    {
     "data": {
      "text/html": [
       "<pre style=\"white-space:pre;overflow-x:auto;line-height:normal;font-family:Menlo,'DejaVu Sans Mono',consolas,'Courier New',monospace\"><span style=\"color: #ffff00; text-decoration-color: #ffff00\">71f07e5c-67f0-438f-8fde-098f709ca646</span>\n",
       "<span style=\"font-weight: bold\">{</span><span style=\"color: #008080; text-decoration-color: #008080; font-weight: bold\">0</span>: <span style=\"color: #008080; text-decoration-color: #008080; font-weight: bold\">0.10514222715490928</span>, <span style=\"color: #008080; text-decoration-color: #008080; font-weight: bold\">1</span>: <span style=\"color: #008080; text-decoration-color: #008080; font-weight: bold\">0.023326527705123428</span>, <span style=\"color: #008080; text-decoration-color: #008080; font-weight: bold\">2</span>: <span style=\"color: #008080; text-decoration-color: #008080; font-weight: bold\">0.12700579809030244</span>, <span style=\"color: #008080; text-decoration-color: #008080; font-weight: bold\">3</span>: <span style=\"color: #008080; text-decoration-color: #008080; font-weight: bold\">0.0</span><span style=\"font-weight: bold\">}</span>\n",
       "</pre>\n"
      ],
      "text/plain": [
       "\u001b[93m71f07e5c-67f0-438f-8fde-098f709ca646\u001b[0m\n",
       "\u001b[1m{\u001b[0m\u001b[1;36m0\u001b[0m: \u001b[1;36m0.10514222715490928\u001b[0m, \u001b[1;36m1\u001b[0m: \u001b[1;36m0.023326527705123428\u001b[0m, \u001b[1;36m2\u001b[0m: \u001b[1;36m0.12700579809030244\u001b[0m, \u001b[1;36m3\u001b[0m: \u001b[1;36m0.0\u001b[0m\u001b[1m}\u001b[0m\n"
      ]
     },
     "metadata": {},
     "output_type": "display_data"
    },
    {
     "data": {
      "text/html": [
       "<pre style=\"white-space:pre;overflow-x:auto;line-height:normal;font-family:Menlo,'DejaVu Sans Mono',consolas,'Courier New',monospace\"><span style=\"color: #ffff00; text-decoration-color: #ffff00\">47452e8d-06ed-41d1-b7be-97e5d21b9f2b</span>\n",
       "<span style=\"font-weight: bold\">{</span><span style=\"color: #008080; text-decoration-color: #008080; font-weight: bold\">0</span>: <span style=\"color: #008080; text-decoration-color: #008080; font-weight: bold\">0.010027712713963261</span>, <span style=\"color: #008080; text-decoration-color: #008080; font-weight: bold\">1</span>: <span style=\"color: #008080; text-decoration-color: #008080; font-weight: bold\">0.006839019176446408</span>, <span style=\"color: #008080; text-decoration-color: #008080; font-weight: bold\">2</span>: <span style=\"color: #008080; text-decoration-color: #008080; font-weight: bold\">0.10357914222320362</span>, <span style=\"color: #008080; text-decoration-color: #008080; font-weight: bold\">3</span>: <span style=\"color: #008080; text-decoration-color: #008080; font-weight: bold\">0.0</span><span style=\"font-weight: bold\">}</span>\n",
       "</pre>\n"
      ],
      "text/plain": [
       "\u001b[93m47452e8d-06ed-41d1-b7be-97e5d21b9f2b\u001b[0m\n",
       "\u001b[1m{\u001b[0m\u001b[1;36m0\u001b[0m: \u001b[1;36m0.010027712713963261\u001b[0m, \u001b[1;36m1\u001b[0m: \u001b[1;36m0.006839019176446408\u001b[0m, \u001b[1;36m2\u001b[0m: \u001b[1;36m0.10357914222320362\u001b[0m, \u001b[1;36m3\u001b[0m: \u001b[1;36m0.0\u001b[0m\u001b[1m}\u001b[0m\n"
      ]
     },
     "metadata": {},
     "output_type": "display_data"
    },
    {
     "data": {
      "text/html": [
       "<pre style=\"white-space:pre;overflow-x:auto;line-height:normal;font-family:Menlo,'DejaVu Sans Mono',consolas,'Courier New',monospace\"><span style=\"color: #ffff00; text-decoration-color: #ffff00\">4298f2c6-1724-4740-b999-8f5b859d7882</span>\n",
       "<span style=\"font-weight: bold\">{</span><span style=\"color: #008080; text-decoration-color: #008080; font-weight: bold\">0</span>: <span style=\"color: #008080; text-decoration-color: #008080; font-weight: bold\">0.05612961748284403</span>, <span style=\"color: #008080; text-decoration-color: #008080; font-weight: bold\">1</span>: <span style=\"color: #008080; text-decoration-color: #008080; font-weight: bold\">0.019769929267630597</span>, <span style=\"color: #008080; text-decoration-color: #008080; font-weight: bold\">2</span>: <span style=\"color: #008080; text-decoration-color: #008080; font-weight: bold\">0.11161077477491674</span>, <span style=\"color: #008080; text-decoration-color: #008080; font-weight: bold\">3</span>: <span style=\"color: #008080; text-decoration-color: #008080; font-weight: bold\">0.0</span><span style=\"font-weight: bold\">}</span>\n",
       "</pre>\n"
      ],
      "text/plain": [
       "\u001b[93m4298f2c6-1724-4740-b999-8f5b859d7882\u001b[0m\n",
       "\u001b[1m{\u001b[0m\u001b[1;36m0\u001b[0m: \u001b[1;36m0.05612961748284403\u001b[0m, \u001b[1;36m1\u001b[0m: \u001b[1;36m0.019769929267630597\u001b[0m, \u001b[1;36m2\u001b[0m: \u001b[1;36m0.11161077477491674\u001b[0m, \u001b[1;36m3\u001b[0m: \u001b[1;36m0.0\u001b[0m\u001b[1m}\u001b[0m\n"
      ]
     },
     "metadata": {},
     "output_type": "display_data"
    },
    {
     "data": {
      "text/html": [
       "<pre style=\"white-space:pre;overflow-x:auto;line-height:normal;font-family:Menlo,'DejaVu Sans Mono',consolas,'Courier New',monospace\"><span style=\"color: #ffff00; text-decoration-color: #ffff00\">0cc72e8b-cf50-44c2-8512-7fffc8561916</span>\n",
       "<span style=\"font-weight: bold\">{</span><span style=\"color: #008080; text-decoration-color: #008080; font-weight: bold\">0</span>: <span style=\"color: #008080; text-decoration-color: #008080; font-weight: bold\">0.08541273425565465</span>, <span style=\"color: #008080; text-decoration-color: #008080; font-weight: bold\">1</span>: <span style=\"color: #008080; text-decoration-color: #008080; font-weight: bold\">0.0</span>, <span style=\"color: #008080; text-decoration-color: #008080; font-weight: bold\">2</span>: <span style=\"color: #008080; text-decoration-color: #008080; font-weight: bold\">0.10333888642867214</span>, <span style=\"color: #008080; text-decoration-color: #008080; font-weight: bold\">3</span>: <span style=\"color: #008080; text-decoration-color: #008080; font-weight: bold\">0.0</span><span style=\"font-weight: bold\">}</span>\n",
       "</pre>\n"
      ],
      "text/plain": [
       "\u001b[93m0cc72e8b-cf50-44c2-8512-7fffc8561916\u001b[0m\n",
       "\u001b[1m{\u001b[0m\u001b[1;36m0\u001b[0m: \u001b[1;36m0.08541273425565465\u001b[0m, \u001b[1;36m1\u001b[0m: \u001b[1;36m0.0\u001b[0m, \u001b[1;36m2\u001b[0m: \u001b[1;36m0.10333888642867214\u001b[0m, \u001b[1;36m3\u001b[0m: \u001b[1;36m0.0\u001b[0m\u001b[1m}\u001b[0m\n"
      ]
     },
     "metadata": {},
     "output_type": "display_data"
    },
    {
     "data": {
      "text/html": [
       "<pre style=\"white-space:pre;overflow-x:auto;line-height:normal;font-family:Menlo,'DejaVu Sans Mono',consolas,'Courier New',monospace\"><span style=\"color: #ffff00; text-decoration-color: #ffff00\">46d62139-2038-4190-8f1c-cf20a84dd599</span>\n",
       "<span style=\"font-weight: bold\">{</span><span style=\"color: #008080; text-decoration-color: #008080; font-weight: bold\">0</span>: <span style=\"color: #008080; text-decoration-color: #008080; font-weight: bold\">0.0</span>, <span style=\"color: #008080; text-decoration-color: #008080; font-weight: bold\">1</span>: <span style=\"color: #008080; text-decoration-color: #008080; font-weight: bold\">0.006745764977400221</span>, <span style=\"color: #008080; text-decoration-color: #008080; font-weight: bold\">2</span>: <span style=\"color: #008080; text-decoration-color: #008080; font-weight: bold\">0.10216677742399641</span>, <span style=\"color: #008080; text-decoration-color: #008080; font-weight: bold\">3</span>: <span style=\"color: #008080; text-decoration-color: #008080; font-weight: bold\">0.0</span><span style=\"font-weight: bold\">}</span>\n",
       "</pre>\n"
      ],
      "text/plain": [
       "\u001b[93m46d62139-2038-4190-8f1c-cf20a84dd599\u001b[0m\n",
       "\u001b[1m{\u001b[0m\u001b[1;36m0\u001b[0m: \u001b[1;36m0.0\u001b[0m, \u001b[1;36m1\u001b[0m: \u001b[1;36m0.006745764977400221\u001b[0m, \u001b[1;36m2\u001b[0m: \u001b[1;36m0.10216677742399641\u001b[0m, \u001b[1;36m3\u001b[0m: \u001b[1;36m0.0\u001b[0m\u001b[1m}\u001b[0m\n"
      ]
     },
     "metadata": {},
     "output_type": "display_data"
    },
    {
     "data": {
      "text/html": [
       "<pre style=\"white-space:pre;overflow-x:auto;line-height:normal;font-family:Menlo,'DejaVu Sans Mono',consolas,'Courier New',monospace\"><span style=\"color: #ffff00; text-decoration-color: #ffff00\">28aa8f11-97cb-4b5c-ae38-e78def28dde8</span>\n",
       "<span style=\"font-weight: bold\">{</span><span style=\"color: #008080; text-decoration-color: #008080; font-weight: bold\">0</span>: <span style=\"color: #008080; text-decoration-color: #008080; font-weight: bold\">0.01142332608921868</span>, <span style=\"color: #008080; text-decoration-color: #008080; font-weight: bold\">1</span>: <span style=\"color: #008080; text-decoration-color: #008080; font-weight: bold\">0.016478159515041568</span>, <span style=\"color: #008080; text-decoration-color: #008080; font-weight: bold\">2</span>: <span style=\"color: #008080; text-decoration-color: #008080; font-weight: bold\">0.14594705128078916</span>, <span style=\"color: #008080; text-decoration-color: #008080; font-weight: bold\">3</span>: <span style=\"color: #008080; text-decoration-color: #008080; font-weight: bold\">0.0</span><span style=\"font-weight: bold\">}</span>\n",
       "</pre>\n"
      ],
      "text/plain": [
       "\u001b[93m28aa8f11-97cb-4b5c-ae38-e78def28dde8\u001b[0m\n",
       "\u001b[1m{\u001b[0m\u001b[1;36m0\u001b[0m: \u001b[1;36m0.01142332608921868\u001b[0m, \u001b[1;36m1\u001b[0m: \u001b[1;36m0.016478159515041568\u001b[0m, \u001b[1;36m2\u001b[0m: \u001b[1;36m0.14594705128078916\u001b[0m, \u001b[1;36m3\u001b[0m: \u001b[1;36m0.0\u001b[0m\u001b[1m}\u001b[0m\n"
      ]
     },
     "metadata": {},
     "output_type": "display_data"
    },
    {
     "data": {
      "text/html": [
       "<pre style=\"white-space:pre;overflow-x:auto;line-height:normal;font-family:Menlo,'DejaVu Sans Mono',consolas,'Courier New',monospace\"><span style=\"color: #ffff00; text-decoration-color: #ffff00\">9b72a4b5-c421-4a00-b45f-e698924d810d</span>\n",
       "<span style=\"font-weight: bold\">{</span><span style=\"color: #008080; text-decoration-color: #008080; font-weight: bold\">0</span>: <span style=\"color: #008080; text-decoration-color: #008080; font-weight: bold\">0.01887232287055451</span>, <span style=\"color: #008080; text-decoration-color: #008080; font-weight: bold\">1</span>: <span style=\"color: #008080; text-decoration-color: #008080; font-weight: bold\">0.014763402582146541</span>, <span style=\"color: #008080; text-decoration-color: #008080; font-weight: bold\">2</span>: <span style=\"color: #008080; text-decoration-color: #008080; font-weight: bold\">0.10012495790565237</span>, <span style=\"color: #008080; text-decoration-color: #008080; font-weight: bold\">3</span>: <span style=\"color: #008080; text-decoration-color: #008080; font-weight: bold\">0.0</span><span style=\"font-weight: bold\">}</span>\n",
       "</pre>\n"
      ],
      "text/plain": [
       "\u001b[93m9b72a4b5-c421-4a00-b45f-e698924d810d\u001b[0m\n",
       "\u001b[1m{\u001b[0m\u001b[1;36m0\u001b[0m: \u001b[1;36m0.01887232287055451\u001b[0m, \u001b[1;36m1\u001b[0m: \u001b[1;36m0.014763402582146541\u001b[0m, \u001b[1;36m2\u001b[0m: \u001b[1;36m0.10012495790565237\u001b[0m, \u001b[1;36m3\u001b[0m: \u001b[1;36m0.0\u001b[0m\u001b[1m}\u001b[0m\n"
      ]
     },
     "metadata": {},
     "output_type": "display_data"
    },
    {
     "data": {
      "text/html": [
       "<pre style=\"white-space:pre;overflow-x:auto;line-height:normal;font-family:Menlo,'DejaVu Sans Mono',consolas,'Courier New',monospace\"><span style=\"color: #ffff00; text-decoration-color: #ffff00\">57ed58b5-b2e4-471a-aaaa-36ed8c0bef4e</span>\n",
       "<span style=\"font-weight: bold\">{</span><span style=\"color: #008080; text-decoration-color: #008080; font-weight: bold\">0</span>: <span style=\"color: #008080; text-decoration-color: #008080; font-weight: bold\">0.01039200578741291</span>, <span style=\"color: #008080; text-decoration-color: #008080; font-weight: bold\">1</span>: <span style=\"color: #008080; text-decoration-color: #008080; font-weight: bold\">0.0880957091138769</span>, <span style=\"color: #008080; text-decoration-color: #008080; font-weight: bold\">2</span>: <span style=\"color: #008080; text-decoration-color: #008080; font-weight: bold\">0.10475579549643863</span>, <span style=\"color: #008080; text-decoration-color: #008080; font-weight: bold\">3</span>: <span style=\"color: #008080; text-decoration-color: #008080; font-weight: bold\">0.0</span><span style=\"font-weight: bold\">}</span>\n",
       "</pre>\n"
      ],
      "text/plain": [
       "\u001b[93m57ed58b5-b2e4-471a-aaaa-36ed8c0bef4e\u001b[0m\n",
       "\u001b[1m{\u001b[0m\u001b[1;36m0\u001b[0m: \u001b[1;36m0.01039200578741291\u001b[0m, \u001b[1;36m1\u001b[0m: \u001b[1;36m0.0880957091138769\u001b[0m, \u001b[1;36m2\u001b[0m: \u001b[1;36m0.10475579549643863\u001b[0m, \u001b[1;36m3\u001b[0m: \u001b[1;36m0.0\u001b[0m\u001b[1m}\u001b[0m\n"
      ]
     },
     "metadata": {},
     "output_type": "display_data"
    },
    {
     "data": {
      "text/html": [
       "<pre style=\"white-space:pre;overflow-x:auto;line-height:normal;font-family:Menlo,'DejaVu Sans Mono',consolas,'Courier New',monospace\"><span style=\"color: #ffff00; text-decoration-color: #ffff00\">a4e7f6fc-59bb-4589-a145-f8c8e65f1d3d</span>\n",
       "<span style=\"font-weight: bold\">{</span><span style=\"color: #008080; text-decoration-color: #008080; font-weight: bold\">0</span>: <span style=\"color: #008080; text-decoration-color: #008080; font-weight: bold\">0.04837592872241663</span>, <span style=\"color: #008080; text-decoration-color: #008080; font-weight: bold\">1</span>: <span style=\"color: #008080; text-decoration-color: #008080; font-weight: bold\">0.0</span>, <span style=\"color: #008080; text-decoration-color: #008080; font-weight: bold\">2</span>: <span style=\"color: #008080; text-decoration-color: #008080; font-weight: bold\">0.10689092255494397</span>, <span style=\"color: #008080; text-decoration-color: #008080; font-weight: bold\">3</span>: <span style=\"color: #008080; text-decoration-color: #008080; font-weight: bold\">0.01859652152580841</span><span style=\"font-weight: bold\">}</span>\n",
       "</pre>\n"
      ],
      "text/plain": [
       "\u001b[93ma4e7f6fc-59bb-4589-a145-f8c8e65f1d3d\u001b[0m\n",
       "\u001b[1m{\u001b[0m\u001b[1;36m0\u001b[0m: \u001b[1;36m0.04837592872241663\u001b[0m, \u001b[1;36m1\u001b[0m: \u001b[1;36m0.0\u001b[0m, \u001b[1;36m2\u001b[0m: \u001b[1;36m0.10689092255494397\u001b[0m, \u001b[1;36m3\u001b[0m: \u001b[1;36m0.01859652152580841\u001b[0m\u001b[1m}\u001b[0m\n"
      ]
     },
     "metadata": {},
     "output_type": "display_data"
    },
    {
     "data": {
      "text/html": [
       "<pre style=\"white-space:pre;overflow-x:auto;line-height:normal;font-family:Menlo,'DejaVu Sans Mono',consolas,'Courier New',monospace\"><span style=\"color: #ffff00; text-decoration-color: #ffff00\">410288c8-ed1e-41af-b7d1-6efc97ac1531</span>\n",
       "<span style=\"font-weight: bold\">{</span><span style=\"color: #008080; text-decoration-color: #008080; font-weight: bold\">0</span>: <span style=\"color: #008080; text-decoration-color: #008080; font-weight: bold\">0.011605369574175838</span>, <span style=\"color: #008080; text-decoration-color: #008080; font-weight: bold\">1</span>: <span style=\"color: #008080; text-decoration-color: #008080; font-weight: bold\">0.013400726495391029</span>, <span style=\"color: #008080; text-decoration-color: #008080; font-weight: bold\">2</span>: <span style=\"color: #008080; text-decoration-color: #008080; font-weight: bold\">0.14045001325674933</span>, <span style=\"color: #008080; text-decoration-color: #008080; font-weight: bold\">3</span>: <span style=\"color: #008080; text-decoration-color: #008080; font-weight: bold\">0.0</span><span style=\"font-weight: bold\">}</span>\n",
       "</pre>\n"
      ],
      "text/plain": [
       "\u001b[93m410288c8-ed1e-41af-b7d1-6efc97ac1531\u001b[0m\n",
       "\u001b[1m{\u001b[0m\u001b[1;36m0\u001b[0m: \u001b[1;36m0.011605369574175838\u001b[0m, \u001b[1;36m1\u001b[0m: \u001b[1;36m0.013400726495391029\u001b[0m, \u001b[1;36m2\u001b[0m: \u001b[1;36m0.14045001325674933\u001b[0m, \u001b[1;36m3\u001b[0m: \u001b[1;36m0.0\u001b[0m\u001b[1m}\u001b[0m\n"
      ]
     },
     "metadata": {},
     "output_type": "display_data"
    },
    {
     "data": {
      "text/html": [
       "<pre style=\"white-space:pre;overflow-x:auto;line-height:normal;font-family:Menlo,'DejaVu Sans Mono',consolas,'Courier New',monospace\"><span style=\"color: #ffff00; text-decoration-color: #ffff00\">8cc0004d-af23-48d2-82e6-6735fc5a8a6f</span>\n",
       "<span style=\"font-weight: bold\">{</span><span style=\"color: #008080; text-decoration-color: #008080; font-weight: bold\">0</span>: <span style=\"color: #008080; text-decoration-color: #008080; font-weight: bold\">0.022565921489660613</span>, <span style=\"color: #008080; text-decoration-color: #008080; font-weight: bold\">1</span>: <span style=\"color: #008080; text-decoration-color: #008080; font-weight: bold\">0.02117482515581612</span>, <span style=\"color: #008080; text-decoration-color: #008080; font-weight: bold\">2</span>: <span style=\"color: #008080; text-decoration-color: #008080; font-weight: bold\">0.11493276577843532</span>, <span style=\"color: #008080; text-decoration-color: #008080; font-weight: bold\">3</span>: <span style=\"color: #008080; text-decoration-color: #008080; font-weight: bold\">0.0</span><span style=\"font-weight: bold\">}</span>\n",
       "</pre>\n"
      ],
      "text/plain": [
       "\u001b[93m8cc0004d-af23-48d2-82e6-6735fc5a8a6f\u001b[0m\n",
       "\u001b[1m{\u001b[0m\u001b[1;36m0\u001b[0m: \u001b[1;36m0.022565921489660613\u001b[0m, \u001b[1;36m1\u001b[0m: \u001b[1;36m0.02117482515581612\u001b[0m, \u001b[1;36m2\u001b[0m: \u001b[1;36m0.11493276577843532\u001b[0m, \u001b[1;36m3\u001b[0m: \u001b[1;36m0.0\u001b[0m\u001b[1m}\u001b[0m\n"
      ]
     },
     "metadata": {},
     "output_type": "display_data"
    },
    {
     "data": {
      "text/html": [
       "<pre style=\"white-space:pre;overflow-x:auto;line-height:normal;font-family:Menlo,'DejaVu Sans Mono',consolas,'Courier New',monospace\"><span style=\"color: #ffff00; text-decoration-color: #ffff00\">a3021cca-e34c-4791-9aa2-1de0cf5e36a6</span>\n",
       "<span style=\"font-weight: bold\">{</span><span style=\"color: #008080; text-decoration-color: #008080; font-weight: bold\">0</span>: <span style=\"color: #008080; text-decoration-color: #008080; font-weight: bold\">0.010883480727477414</span>, <span style=\"color: #008080; text-decoration-color: #008080; font-weight: bold\">1</span>: <span style=\"color: #008080; text-decoration-color: #008080; font-weight: bold\">0.003711331563082094</span>, <span style=\"color: #008080; text-decoration-color: #008080; font-weight: bold\">2</span>: <span style=\"color: #008080; text-decoration-color: #008080; font-weight: bold\">0.14699398610193024</span>, <span style=\"color: #008080; text-decoration-color: #008080; font-weight: bold\">3</span>: <span style=\"color: #008080; text-decoration-color: #008080; font-weight: bold\">0.0</span><span style=\"font-weight: bold\">}</span>\n",
       "</pre>\n"
      ],
      "text/plain": [
       "\u001b[93ma3021cca-e34c-4791-9aa2-1de0cf5e36a6\u001b[0m\n",
       "\u001b[1m{\u001b[0m\u001b[1;36m0\u001b[0m: \u001b[1;36m0.010883480727477414\u001b[0m, \u001b[1;36m1\u001b[0m: \u001b[1;36m0.003711331563082094\u001b[0m, \u001b[1;36m2\u001b[0m: \u001b[1;36m0.14699398610193024\u001b[0m, \u001b[1;36m3\u001b[0m: \u001b[1;36m0.0\u001b[0m\u001b[1m}\u001b[0m\n"
      ]
     },
     "metadata": {},
     "output_type": "display_data"
    },
    {
     "data": {
      "text/html": [
       "<pre style=\"white-space:pre;overflow-x:auto;line-height:normal;font-family:Menlo,'DejaVu Sans Mono',consolas,'Courier New',monospace\"><span style=\"color: #ffff00; text-decoration-color: #ffff00\">63105b55-0143-4cdb-b812-36b4eeb487d8</span>\n",
       "<span style=\"font-weight: bold\">{</span><span style=\"color: #008080; text-decoration-color: #008080; font-weight: bold\">0</span>: <span style=\"color: #008080; text-decoration-color: #008080; font-weight: bold\">0.10787014889390287</span>, <span style=\"color: #008080; text-decoration-color: #008080; font-weight: bold\">1</span>: <span style=\"color: #008080; text-decoration-color: #008080; font-weight: bold\">0.0</span>, <span style=\"color: #008080; text-decoration-color: #008080; font-weight: bold\">2</span>: <span style=\"color: #008080; text-decoration-color: #008080; font-weight: bold\">0.11054367685139817</span>, <span style=\"color: #008080; text-decoration-color: #008080; font-weight: bold\">3</span>: <span style=\"color: #008080; text-decoration-color: #008080; font-weight: bold\">0.0</span><span style=\"font-weight: bold\">}</span>\n",
       "</pre>\n"
      ],
      "text/plain": [
       "\u001b[93m63105b55-0143-4cdb-b812-36b4eeb487d8\u001b[0m\n",
       "\u001b[1m{\u001b[0m\u001b[1;36m0\u001b[0m: \u001b[1;36m0.10787014889390287\u001b[0m, \u001b[1;36m1\u001b[0m: \u001b[1;36m0.0\u001b[0m, \u001b[1;36m2\u001b[0m: \u001b[1;36m0.11054367685139817\u001b[0m, \u001b[1;36m3\u001b[0m: \u001b[1;36m0.0\u001b[0m\u001b[1m}\u001b[0m\n"
      ]
     },
     "metadata": {},
     "output_type": "display_data"
    },
    {
     "data": {
      "text/html": [
       "<pre style=\"white-space:pre;overflow-x:auto;line-height:normal;font-family:Menlo,'DejaVu Sans Mono',consolas,'Courier New',monospace\"><span style=\"color: #ffff00; text-decoration-color: #ffff00\">b1948e98-e330-4d55-aaeb-a0672ccfadc4</span>\n",
       "<span style=\"font-weight: bold\">{</span><span style=\"color: #008080; text-decoration-color: #008080; font-weight: bold\">0</span>: <span style=\"color: #008080; text-decoration-color: #008080; font-weight: bold\">0.024262868275612637</span>, <span style=\"color: #008080; text-decoration-color: #008080; font-weight: bold\">1</span>: <span style=\"color: #008080; text-decoration-color: #008080; font-weight: bold\">0.08814435242277636</span>, <span style=\"color: #008080; text-decoration-color: #008080; font-weight: bold\">2</span>: <span style=\"color: #008080; text-decoration-color: #008080; font-weight: bold\">0.11850452556929024</span>, <span style=\"color: #008080; text-decoration-color: #008080; font-weight: bold\">3</span>: <span style=\"color: #008080; text-decoration-color: #008080; font-weight: bold\">0.0</span><span style=\"font-weight: bold\">}</span>\n",
       "</pre>\n"
      ],
      "text/plain": [
       "\u001b[93mb1948e98-e330-4d55-aaeb-a0672ccfadc4\u001b[0m\n",
       "\u001b[1m{\u001b[0m\u001b[1;36m0\u001b[0m: \u001b[1;36m0.024262868275612637\u001b[0m, \u001b[1;36m1\u001b[0m: \u001b[1;36m0.08814435242277636\u001b[0m, \u001b[1;36m2\u001b[0m: \u001b[1;36m0.11850452556929024\u001b[0m, \u001b[1;36m3\u001b[0m: \u001b[1;36m0.0\u001b[0m\u001b[1m}\u001b[0m\n"
      ]
     },
     "metadata": {},
     "output_type": "display_data"
    },
    {
     "data": {
      "text/html": [
       "<pre style=\"white-space:pre;overflow-x:auto;line-height:normal;font-family:Menlo,'DejaVu Sans Mono',consolas,'Courier New',monospace\"><span style=\"color: #ffff00; text-decoration-color: #ffff00\">677ade8d-a933-4806-87a7-95a3289646cf</span>\n",
       "<span style=\"font-weight: bold\">{</span><span style=\"color: #008080; text-decoration-color: #008080; font-weight: bold\">0</span>: <span style=\"color: #008080; text-decoration-color: #008080; font-weight: bold\">0.013374442885355964</span>, <span style=\"color: #008080; text-decoration-color: #008080; font-weight: bold\">1</span>: <span style=\"color: #008080; text-decoration-color: #008080; font-weight: bold\">0.015443476400243085</span>, <span style=\"color: #008080; text-decoration-color: #008080; font-weight: bold\">2</span>: <span style=\"color: #008080; text-decoration-color: #008080; font-weight: bold\">0.11659386483275361</span>, <span style=\"color: #008080; text-decoration-color: #008080; font-weight: bold\">3</span>: <span style=\"color: #008080; text-decoration-color: #008080; font-weight: bold\">0.0</span><span style=\"font-weight: bold\">}</span>\n",
       "</pre>\n"
      ],
      "text/plain": [
       "\u001b[93m677ade8d-a933-4806-87a7-95a3289646cf\u001b[0m\n",
       "\u001b[1m{\u001b[0m\u001b[1;36m0\u001b[0m: \u001b[1;36m0.013374442885355964\u001b[0m, \u001b[1;36m1\u001b[0m: \u001b[1;36m0.015443476400243085\u001b[0m, \u001b[1;36m2\u001b[0m: \u001b[1;36m0.11659386483275361\u001b[0m, \u001b[1;36m3\u001b[0m: \u001b[1;36m0.0\u001b[0m\u001b[1m}\u001b[0m\n"
      ]
     },
     "metadata": {},
     "output_type": "display_data"
    },
    {
     "data": {
      "text/html": [
       "<pre style=\"white-space:pre;overflow-x:auto;line-height:normal;font-family:Menlo,'DejaVu Sans Mono',consolas,'Courier New',monospace\"><span style=\"color: #ffff00; text-decoration-color: #ffff00\">20c4e8c9-4f85-4faf-960e-be0c11d7728d</span>\n",
       "<span style=\"font-weight: bold\">{</span><span style=\"color: #008080; text-decoration-color: #008080; font-weight: bold\">0</span>: <span style=\"color: #008080; text-decoration-color: #008080; font-weight: bold\">0.01346907536107509</span>, <span style=\"color: #008080; text-decoration-color: #008080; font-weight: bold\">1</span>: <span style=\"color: #008080; text-decoration-color: #008080; font-weight: bold\">0.023305561274489052</span>, <span style=\"color: #008080; text-decoration-color: #008080; font-weight: bold\">2</span>: <span style=\"color: #008080; text-decoration-color: #008080; font-weight: bold\">0.11761566971771602</span>, <span style=\"color: #008080; text-decoration-color: #008080; font-weight: bold\">3</span>: <span style=\"color: #008080; text-decoration-color: #008080; font-weight: bold\">0.0</span><span style=\"font-weight: bold\">}</span>\n",
       "</pre>\n"
      ],
      "text/plain": [
       "\u001b[93m20c4e8c9-4f85-4faf-960e-be0c11d7728d\u001b[0m\n",
       "\u001b[1m{\u001b[0m\u001b[1;36m0\u001b[0m: \u001b[1;36m0.01346907536107509\u001b[0m, \u001b[1;36m1\u001b[0m: \u001b[1;36m0.023305561274489052\u001b[0m, \u001b[1;36m2\u001b[0m: \u001b[1;36m0.11761566971771602\u001b[0m, \u001b[1;36m3\u001b[0m: \u001b[1;36m0.0\u001b[0m\u001b[1m}\u001b[0m\n"
      ]
     },
     "metadata": {},
     "output_type": "display_data"
    },
    {
     "data": {
      "text/html": [
       "<pre style=\"white-space:pre;overflow-x:auto;line-height:normal;font-family:Menlo,'DejaVu Sans Mono',consolas,'Courier New',monospace\"><span style=\"color: #ffff00; text-decoration-color: #ffff00\">cfc1d014-515c-4d65-ada3-fee200cfd9af</span>\n",
       "<span style=\"font-weight: bold\">{</span><span style=\"color: #008080; text-decoration-color: #008080; font-weight: bold\">0</span>: <span style=\"color: #008080; text-decoration-color: #008080; font-weight: bold\">0.0</span>, <span style=\"color: #008080; text-decoration-color: #008080; font-weight: bold\">1</span>: <span style=\"color: #008080; text-decoration-color: #008080; font-weight: bold\">0.06189783249732824</span>, <span style=\"color: #008080; text-decoration-color: #008080; font-weight: bold\">2</span>: <span style=\"color: #008080; text-decoration-color: #008080; font-weight: bold\">0.12588948828787758</span>, <span style=\"color: #008080; text-decoration-color: #008080; font-weight: bold\">3</span>: <span style=\"color: #008080; text-decoration-color: #008080; font-weight: bold\">0.0</span><span style=\"font-weight: bold\">}</span>\n",
       "</pre>\n"
      ],
      "text/plain": [
       "\u001b[93mcfc1d014-515c-4d65-ada3-fee200cfd9af\u001b[0m\n",
       "\u001b[1m{\u001b[0m\u001b[1;36m0\u001b[0m: \u001b[1;36m0.0\u001b[0m, \u001b[1;36m1\u001b[0m: \u001b[1;36m0.06189783249732824\u001b[0m, \u001b[1;36m2\u001b[0m: \u001b[1;36m0.12588948828787758\u001b[0m, \u001b[1;36m3\u001b[0m: \u001b[1;36m0.0\u001b[0m\u001b[1m}\u001b[0m\n"
      ]
     },
     "metadata": {},
     "output_type": "display_data"
    },
    {
     "data": {
      "text/html": [
       "<pre style=\"white-space:pre;overflow-x:auto;line-height:normal;font-family:Menlo,'DejaVu Sans Mono',consolas,'Courier New',monospace\"><span style=\"color: #ffff00; text-decoration-color: #ffff00\">435aaa98-d532-4b9f-9fc2-e19781233c8b</span>\n",
       "<span style=\"font-weight: bold\">{</span><span style=\"color: #008080; text-decoration-color: #008080; font-weight: bold\">0</span>: <span style=\"color: #008080; text-decoration-color: #008080; font-weight: bold\">0.04555670034129712</span>, <span style=\"color: #008080; text-decoration-color: #008080; font-weight: bold\">1</span>: <span style=\"color: #008080; text-decoration-color: #008080; font-weight: bold\">0.025753865469894874</span>, <span style=\"color: #008080; text-decoration-color: #008080; font-weight: bold\">2</span>: <span style=\"color: #008080; text-decoration-color: #008080; font-weight: bold\">0.10521961926594633</span>, <span style=\"color: #008080; text-decoration-color: #008080; font-weight: bold\">3</span>: <span style=\"color: #008080; text-decoration-color: #008080; font-weight: bold\">0.0</span><span style=\"font-weight: bold\">}</span>\n",
       "</pre>\n"
      ],
      "text/plain": [
       "\u001b[93m435aaa98-d532-4b9f-9fc2-e19781233c8b\u001b[0m\n",
       "\u001b[1m{\u001b[0m\u001b[1;36m0\u001b[0m: \u001b[1;36m0.04555670034129712\u001b[0m, \u001b[1;36m1\u001b[0m: \u001b[1;36m0.025753865469894874\u001b[0m, \u001b[1;36m2\u001b[0m: \u001b[1;36m0.10521961926594633\u001b[0m, \u001b[1;36m3\u001b[0m: \u001b[1;36m0.0\u001b[0m\u001b[1m}\u001b[0m\n"
      ]
     },
     "metadata": {},
     "output_type": "display_data"
    },
    {
     "data": {
      "text/html": [
       "<pre style=\"white-space:pre;overflow-x:auto;line-height:normal;font-family:Menlo,'DejaVu Sans Mono',consolas,'Courier New',monospace\"><span style=\"color: #ffff00; text-decoration-color: #ffff00\">9f283351-770f-4473-a866-0ca27e6321f1</span>\n",
       "<span style=\"font-weight: bold\">{</span><span style=\"color: #008080; text-decoration-color: #008080; font-weight: bold\">0</span>: <span style=\"color: #008080; text-decoration-color: #008080; font-weight: bold\">0.0</span>, <span style=\"color: #008080; text-decoration-color: #008080; font-weight: bold\">1</span>: <span style=\"color: #008080; text-decoration-color: #008080; font-weight: bold\">0.013580887025102755</span>, <span style=\"color: #008080; text-decoration-color: #008080; font-weight: bold\">2</span>: <span style=\"color: #008080; text-decoration-color: #008080; font-weight: bold\">0.11541138257553873</span>, <span style=\"color: #008080; text-decoration-color: #008080; font-weight: bold\">3</span>: <span style=\"color: #008080; text-decoration-color: #008080; font-weight: bold\">0.04009777827903863</span><span style=\"font-weight: bold\">}</span>\n",
       "</pre>\n"
      ],
      "text/plain": [
       "\u001b[93m9f283351-770f-4473-a866-0ca27e6321f1\u001b[0m\n",
       "\u001b[1m{\u001b[0m\u001b[1;36m0\u001b[0m: \u001b[1;36m0.0\u001b[0m, \u001b[1;36m1\u001b[0m: \u001b[1;36m0.013580887025102755\u001b[0m, \u001b[1;36m2\u001b[0m: \u001b[1;36m0.11541138257553873\u001b[0m, \u001b[1;36m3\u001b[0m: \u001b[1;36m0.04009777827903863\u001b[0m\u001b[1m}\u001b[0m\n"
      ]
     },
     "metadata": {},
     "output_type": "display_data"
    },
    {
     "data": {
      "text/html": [
       "<pre style=\"white-space:pre;overflow-x:auto;line-height:normal;font-family:Menlo,'DejaVu Sans Mono',consolas,'Courier New',monospace\"><span style=\"color: #ffff00; text-decoration-color: #ffff00\">9a19793f-5570-49c2-b99b-9af7997c5f7c</span>\n",
       "<span style=\"font-weight: bold\">{</span><span style=\"color: #008080; text-decoration-color: #008080; font-weight: bold\">0</span>: <span style=\"color: #008080; text-decoration-color: #008080; font-weight: bold\">0.010133677784173949</span>, <span style=\"color: #008080; text-decoration-color: #008080; font-weight: bold\">1</span>: <span style=\"color: #008080; text-decoration-color: #008080; font-weight: bold\">0.006911288612944649</span>, <span style=\"color: #008080; text-decoration-color: #008080; font-weight: bold\">2</span>: <span style=\"color: #008080; text-decoration-color: #008080; font-weight: bold\">0.15322980079283244</span>, <span style=\"color: #008080; text-decoration-color: #008080; font-weight: bold\">3</span>: <span style=\"color: #008080; text-decoration-color: #008080; font-weight: bold\">0.0</span><span style=\"font-weight: bold\">}</span>\n",
       "</pre>\n"
      ],
      "text/plain": [
       "\u001b[93m9a19793f-5570-49c2-b99b-9af7997c5f7c\u001b[0m\n",
       "\u001b[1m{\u001b[0m\u001b[1;36m0\u001b[0m: \u001b[1;36m0.010133677784173949\u001b[0m, \u001b[1;36m1\u001b[0m: \u001b[1;36m0.006911288612944649\u001b[0m, \u001b[1;36m2\u001b[0m: \u001b[1;36m0.15322980079283244\u001b[0m, \u001b[1;36m3\u001b[0m: \u001b[1;36m0.0\u001b[0m\u001b[1m}\u001b[0m\n"
      ]
     },
     "metadata": {},
     "output_type": "display_data"
    }
   ],
   "source": [
    "\"\"\"print('OBJECTIVE INDEX')\n",
    "for i in sims_ob.keys():\n",
    "    if sims_ob[i][2] > 0.1:\n",
    "        print(i, sims_ob[i])\"\"\""
   ]
  },
  {
   "cell_type": "markdown",
   "metadata": {},
   "source": [
    "### Technical_ind similarities (no funciona, no sé per què)"
   ]
  },
  {
   "cell_type": "code",
   "execution_count": 112,
   "metadata": {},
   "outputs": [
    {
     "name": "stderr",
     "output_type": "stream",
     "text": [
      "100%|██████████| 924/924 [00:00<00:00, 20354.28it/s]\n"
     ]
    }
   ],
   "source": [
    "from elasticsearch.helpers import scan\n",
    "from pprint import pprint\n",
    "from elasticsearch import Elasticsearch\n",
    "import tqdm\n",
    "import numpy as np\n",
    "\n",
    "client = Elasticsearch(\"http://localhost:9200\", request_timeout=1000)\n",
    "\n",
    "r = 10  # only return r top docs\n",
    "queries = ['Python', 'React', 'PostgreSQL', 'Figma', 'C++', 'Java', 'React', 'Pytorch', 'SQL', 'HTML/CSS', 'MongoDB', 'Google', 'Flutter', 'Amazon', 'Raspberry', 'TensorFlow', 'AR/VR']\n",
    "sims : dict[str, dict[int,float]] = {}\n",
    "\n",
    "l2query  = [np.sqrt(len(query.split())) for query in queries]  # l2 of query assuming 0-1 vector representation\n",
    "\n",
    "# get nr. of docs; just for the progress bar\n",
    "ndocs = int(client.cat.count(index='technical_ind', format = \"json\")[0]['count'])\n",
    "\n",
    "# scan through docs, compute cosine sim between query and each doc\n",
    "for s in tqdm.tqdm(scan(client, index='technical_ind', query={\"query\" : {\"match_all\": {}}}), total=ndocs):\n",
    "    docid = s['_source']['path']   # use path as id\n",
    "    weights = corpuses['technical_ind'][docid]   # gets weights as a python dict of term -> weight (see remark above)\n",
    "    docid = docid.split('/')[-1].replace('.txt', '')\n",
    "    sims[docid] = {}\n",
    "    for i in range(len(queries)):\n",
    "        sims[docid][i] = 0.0\n",
    "        for w in queries[i].split():  # gets terms as a list\n",
    "            if w in weights:    # probably need to do something fancier to make sure that word is in vocabulary etc.\n",
    "                print('Aqui')\n",
    "                sims[docid][i] += weights[w]   # accumulates if w in current doc\n",
    "        # normalize sim\n",
    "        sims[docid][i] /= l2query[i]\n",
    "\n",
    "sims = {key: sum(subdict.values()) for key, subdict in sims.items()}"
   ]
  },
  {
   "cell_type": "code",
   "execution_count": 114,
   "metadata": {},
   "outputs": [
    {
     "data": {
      "text/html": [
       "<pre style=\"white-space:pre;overflow-x:auto;line-height:normal;font-family:Menlo,'DejaVu Sans Mono',consolas,'Courier New',monospace\">OBJECTIVE INDEX\n",
       "</pre>\n"
      ],
      "text/plain": [
       "OBJECTIVE INDEX\n"
      ]
     },
     "metadata": {},
     "output_type": "display_data"
    }
   ],
   "source": [
    "print('OBJECTIVE INDEX')\n",
    "for i in sims.keys():\n",
    "    if sims[i] > 0.01:\n",
    "        print(i, sims[i])"
   ]
  },
  {
   "cell_type": "markdown",
   "metadata": {},
   "source": [
    "### PROVES DIVERSES"
   ]
  },
  {
   "cell_type": "code",
   "execution_count": null,
   "metadata": {},
   "outputs": [],
   "source": [
    "from participant import load_participants\n",
    "from rich import print\n",
    "import uuid\n",
    "import os\n",
    "\n",
    "data_path = \"data/datathon_participants.json\"\n",
    "participants = load_participants(data_path)\n",
    "\n",
    "objectives : dict[uuid.UUID,str] = {}\n",
    "technical : dict[uuid.UUID,str] = {}\n",
    "\n",
    "\n",
    "for p in participants:\n",
    "    objectives[p.id] = p.objective + \" \" + p.introduction\n",
    "    technical[p.id] = p.technical_project + \" \" + p.future_excitement\n",
    "\n",
    "\n",
    "word_counts : dict[str,int] = {}\n",
    "for key, value in technical.items():\n",
    "    for word in value.split():\n",
    "        if word not in word_counts: \n",
    "            word_counts[word] = 0\n",
    "        word_counts[word] += 1\n",
    "\n",
    "sorted_answer = sorted(word_counts.items(), key=lambda kv: kv[1], reverse=True)\n",
    "print(sorted_answer)\n",
    "print(objectives['fcee953a-30c6-475a-b65c-ec49223281e9'])\n",
    "\n",
    "text = 'Objectives_files/fcee953a-30c6-475a-b65c-ec49223281e9.txt'\n",
    "resultat = text.split('/')[-1].replace('.txt', '')\n",
    "print(resultat)"
   ]
  },
  {
   "cell_type": "markdown",
   "metadata": {},
   "source": [
    "### NEW DATA"
   ]
  },
  {
   "cell_type": "code",
   "execution_count": 152,
   "metadata": {},
   "outputs": [],
   "source": [
    "import json\n",
    "import pathlib\n",
    "import uuid\n",
    "from dataclasses import dataclass\n",
    "from typing import Dict, List, Literal\n",
    "\n",
    "\n",
    "@dataclass\n",
    "class Participant:\n",
    "    id: uuid.UUID  # Unique identifier\n",
    "\n",
    "    # Personal data\n",
    "    name: str\n",
    "    email: str\n",
    "    age: int\n",
    "    year_of_study: Literal[\"1st year\", \"2nd year\", \"3rd year\", \"4th year\", \"Masters\", \"PhD\"]\n",
    "    shirt_size: Literal[\"S\", \"M\", \"L\", \"XL\"]\n",
    "    university: str\n",
    "    dietary_restrictions: Literal[\"None\", \"Vegetarian\", \"Vegan\", \"Gluten-free\", \"Other\"]\n",
    "\n",
    "    # Experience and programming skills\n",
    "    programming_skills: Dict[str, int]\n",
    "    experience_level: Literal[\"Beginner\", \"Intermediate\", \"Advanced\"]\n",
    "    hackathons_done: int\n",
    "\n",
    "    # Interests, preferences and constraints\n",
    "    interests: List[str]\n",
    "    preferred_role: Literal[\n",
    "        \"Analysis\", \"Visualization\", \"Development\", \"Design\", \"Don't know\", \"Don't care\"\n",
    "    ]\n",
    "\n",
    "    interest_in_challenges: List[str]\n",
    "    preferred_languages: List[str]\n",
    "    friend_registration: List[uuid.UUID]\n",
    "    preferred_team_size: int\n",
    "    availability: Dict[str, bool]\n",
    "\n",
    "    # Description of the participant\n",
    "    Tryhard: float = 0\n",
    "    Learner: float = 0\n",
    "    Rookie: float = 0\n",
    "    Portfolio: float = 0"
   ]
  },
  {
   "cell_type": "code",
   "execution_count": 157,
   "metadata": {},
   "outputs": [],
   "source": [
    "def load_participants(path: str, sims: Dict[uuid.UUID, List[float]]) -> List[Participant]:\n",
    "    if not pathlib.Path(path).exists():\n",
    "        raise FileNotFoundError(\n",
    "            f\"The file {path} does not exist, are you sure you're using the correct path?\"\n",
    "        )\n",
    "    if not pathlib.Path(path).suffix == \".json\":\n",
    "        raise ValueError(\n",
    "            f\"The file {path} is not a JSON file, are you sure you're using the correct file?\"\n",
    "        )\n",
    "\n",
    "    participants_data = json.load(open(path))\n",
    "    participants = []\n",
    "    \n",
    "    for participant_data in participants_data:\n",
    "        # Remove fields that aren't in the Participant class\n",
    "        if 'objective' in participant_data:\n",
    "            del participant_data['objective']\n",
    "        if 'introduction' in participant_data:\n",
    "            del participant_data['introduction']\n",
    "        if 'fun_fact' in participant_data:\n",
    "            del participant_data['fun_fact']\n",
    "        if 'future_excitement' in participant_data:\n",
    "            del participant_data['future_excitement']\n",
    "        if 'technical_project' in participant_data:\n",
    "            del participant_data['technical_project']\n",
    "            \n",
    "        # Convert the ID string to UUID\n",
    "        participant_id = str(participant_data['id'])\n",
    "        \n",
    "        # If this participant has simulation data, update their values\n",
    "        if participant_id in sims.keys():\n",
    "            participant_data['Tryhard'] = sims[participant_id][0]\n",
    "            participant_data['Learner'] = sims[participant_id][1]\n",
    "            participant_data['Rookie'] = sims[participant_id][2]\n",
    "            participant_data['Portfolio'] = sims[participant_id][3]\n",
    "          \n",
    "        # Create the participant instance with the updated data\n",
    "        participants.append(Participant(**participant_data))\n",
    "    \n",
    "    return participants\n",
    "\n",
    "\n",
    "participants1 = load_participants('/Users/cristinateixidocruilles/Desktop/Datathon24/data/datathon_participants.json', sims_ob)"
   ]
  },
  {
   "cell_type": "code",
   "execution_count": 158,
   "metadata": {},
   "outputs": [],
   "source": [
    "import csv\n",
    "import pandas as pd\n",
    "\n",
    "def participants_to_csv(participants: List[Participant], output_file: str):\n",
    "    \"\"\"Convert list of Participant objects to CSV file.\"\"\"\n",
    "    # Get all fields from the first participant\n",
    "    fieldnames = [field for field in vars(participants[0])]\n",
    "    \n",
    "    with open(output_file, 'w', newline='', encoding='utf-8') as csvfile:\n",
    "        writer = csv.writer(csvfile)\n",
    "        \n",
    "        # Write header\n",
    "        writer.writerow(fieldnames)\n",
    "        \n",
    "        # Write each participant's data\n",
    "        for participant in participants:\n",
    "            row = []\n",
    "            for field in fieldnames:\n",
    "                value = getattr(participant, field)\n",
    "                # Convert complex types to strings\n",
    "                if isinstance(value, (dict, list)):\n",
    "                    value = str(value)\n",
    "                row.append(value)\n",
    "            writer.writerow(row)\n",
    "\n",
    "# Example usage\n",
    "participants_to_csv(participants1, 'participants.csv')"
   ]
  }
 ],
 "metadata": {
  "kernelspec": {
   "display_name": "Python 3",
   "language": "python",
   "name": "python3"
  },
  "language_info": {
   "codemirror_mode": {
    "name": "ipython",
    "version": 3
   },
   "file_extension": ".py",
   "mimetype": "text/x-python",
   "name": "python",
   "nbconvert_exporter": "python",
   "pygments_lexer": "ipython3",
   "version": "3.11.5"
  }
 },
 "nbformat": 4,
 "nbformat_minor": 2
}
