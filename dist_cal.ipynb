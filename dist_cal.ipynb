{
 "cells": [
  {
   "cell_type": "code",
   "execution_count": 9,
   "metadata": {},
   "outputs": [],
   "source": [
    "from rich import print\n",
    "import pandas as pd\n",
    "import numpy as np\n",
    "import math\n",
    "import ast\n",
    "from dataclasses import dataclass\n",
    "from collections import defaultdict\n",
    "from sklearn.preprocessing import OneHotEncoder, StandardScaler, LabelEncoder\n",
    "from sklearn.feature_extraction.text import CountVectorizer"
   ]
  },
  {
   "cell_type": "code",
   "execution_count": 23,
   "metadata": {},
   "outputs": [],
   "source": [
    "class Participant:\n",
    "    def __init__(self, id, university, interests, preferred_role, friend_registration, preferred_team_size, availability,\n",
    "                 programming_skills, interest_in_challenges, experience, languages_ordered, maturity, Tryhard, Rookie, Learner, Portfolio):\n",
    "        self.id = id\n",
    "        self.university = university\n",
    "        self.interests = interests\n",
    "        self.preferred_role = preferred_role\n",
    "        self.friend_registration = friend_registration\n",
    "        self.preferred_team_size = preferred_team_size\n",
    "        self.availability = availability\n",
    "        self.programming_skills = programming_skills\n",
    "        self.interest_in_challenges = interest_in_challenges\n",
    "        self.experience = experience\n",
    "        self.languages_ordered = languages_ordered\n",
    "        self.maturity = maturity\n",
    "        self.Tryhard = Tryhard\n",
    "        self.Rookie = Rookie\n",
    "        self.Learner = Learner\n",
    "        self.Portfolio = Portfolio"
   ]
  },
  {
   "cell_type": "code",
   "execution_count": 11,
   "metadata": {},
   "outputs": [],
   "source": [
    "INF = 999999"
   ]
  },
  {
   "cell_type": "code",
   "execution_count": 12,
   "metadata": {},
   "outputs": [],
   "source": [
    "data_path = \"data/datathon_participants.json\"\n"
   ]
  },
  {
   "cell_type": "code",
   "execution_count": 13,
   "metadata": {},
   "outputs": [],
   "source": [
    "def dist_university(university_1, university_2) :\n",
    "    if university_1 == university_2:\n",
    "        return 0 \n",
    "    else:\n",
    "        return INF"
   ]
  },
  {
   "cell_type": "code",
   "execution_count": 43,
   "metadata": {},
   "outputs": [],
   "source": [
    "def dist_friends(friend_registration_1, friend_registration_2, id_1, id_2):\n",
    "    if id_1 in friend_registration_2 and id_2 in friend_registration_1:\n",
    "        return 0\n",
    "    elif id_1 in friend_registration_2 or id_2 in friend_registration_1:\n",
    "        return 1\n",
    "    return 10"
   ]
  },
  {
   "cell_type": "code",
   "execution_count": 14,
   "metadata": {},
   "outputs": [],
   "source": [
    "#No usar\n",
    "def dist_age_year_of_study(age_1, age_2, year_1, year_2, age_weight, year_weigth) -> float:\n",
    "    age_distance = abs(age_1 - age_2)\n",
    "    year_distance = abs(year_1 - year_2)\n",
    "    return (age_weight * age_distance + year_weigth * year_distance) / (age_distance + year_distance)\n"
   ]
  },
  {
   "cell_type": "code",
   "execution_count": 15,
   "metadata": {},
   "outputs": [],
   "source": [
    "def dist_one_hot_encoding(x, y):\n",
    "    return sum([1 if x_i != y_i else 0 for x_i, y_i in zip(x, y)])"
   ]
  },
  {
   "cell_type": "code",
   "execution_count": 16,
   "metadata": {},
   "outputs": [],
   "source": [
    "def dist_programming_skills(skills_1, skills_2) -> float:\n",
    "    avg_level_1 = sum(skills_1.values()) / len(skills_1) if skills_1 else 0\n",
    "    \n",
    "    avg_level_2 = sum(skills_2.values()) / len(skills_2) if skills_2 else 0\n",
    "    \n",
    "    distance_avg_levels = abs(avg_level_1 - avg_level_2)\n",
    "    \n",
    "    all_skills = set(skills_1.keys()).union(set(skills_2.keys()))\n",
    "    \n",
    "    distance_union = 1 / len(all_skills) if all_skills else INF \n",
    "    \n",
    "    return distance_avg_levels + distance_union\n"
   ]
  },
  {
   "cell_type": "code",
   "execution_count": 17,
   "metadata": {},
   "outputs": [],
   "source": [
    "#No usar\n",
    "def dist_experience(exp_1, exp_2, hackathons_1, hackathons_2, experience_weights) -> float:\n",
    "    exp_distance = abs(exp_1 - exp_2)\n",
    "    hackathon_distance = abs(np.log1p(hackathons_1) - np.log1p(hackathons_2))\n",
    "    total_distance = experience_weights[0] * exp_distance + experience_weights[1] * hackathon_distance\n",
    "    return total_distance"
   ]
  },
  {
   "cell_type": "code",
   "execution_count": 18,
   "metadata": {},
   "outputs": [],
   "source": [
    "def dist_preferred_role(role_1, role_2):\n",
    "    if role_1 == role_2:\n",
    "        return 1.0  \n",
    "\n",
    "    if role_1 == \"Don't know\" or role_2 == \"Don't know\":\n",
    "        return 1 / 0.2  \n",
    "\n",
    "    if role_1 == \"Don't care\" or role_2 == \"Don't care\":\n",
    "        return 0.5  \n",
    "\n",
    "    return 0.0"
   ]
  },
  {
   "cell_type": "code",
   "execution_count": 19,
   "metadata": {},
   "outputs": [],
   "source": [
    "#No usar\n",
    "def euclidean_distance(vector_1, vector_2):\n",
    "    squared_diff_sum = sum((x - y) ** 2 for x, y in zip(vector_1, vector_2))\n",
    "    \n",
    "    return math.sqrt(squared_diff_sum)"
   ]
  },
  {
   "cell_type": "code",
   "execution_count": 20,
   "metadata": {},
   "outputs": [],
   "source": [
    "def dist_language(languages_1, languages_2):\n",
    "    if not languages_1 or not languages_2:  \n",
    "        return 0\n",
    "    \n",
    "    common_languages = set(languages_1).intersection(set(languages_2))\n",
    "    \n",
    "    if not common_languages:  \n",
    "        return INF\n",
    "\n",
    "    distance = 0\n",
    "    for i, lang_1 in enumerate(languages_1):\n",
    "        for j, lang_2 in enumerate(languages_2):\n",
    "            if lang_1 == lang_2:\n",
    "                d = abs(i - j)\n",
    "                return d + math.exp(i+j) - 1"
   ]
  },
  {
   "cell_type": "code",
   "execution_count": 24,
   "metadata": {},
   "outputs": [],
   "source": [
    "df = pd.read_csv('clean_data_actualitzat.csv')\n"
   ]
  },
  {
   "cell_type": "code",
   "execution_count": 26,
   "metadata": {},
   "outputs": [],
   "source": [
    "participants_dict = {}\n",
    "\n",
    "for _, row in df.iterrows():\n",
    "    programming_skills = ast.literal_eval(row['programming_skills'])  \n",
    "    interests = ast.literal_eval(row['interests']) \n",
    "    friend_registration = ast.literal_eval(row['friend_registration'])  \n",
    "    availability = ast.literal_eval(row['availability'])  \n",
    "    interest_in_challenges = ast.literal_eval(row['interest_in_challenges'])  \n",
    "    languages_ordered = ast.literal_eval(row['languages_ordered'])  \n",
    "\n",
    "    \n",
    "    participant = Participant(\n",
    "        id=row['id'],\n",
    "        university=row['university'],\n",
    "        interests=interests,  \n",
    "        preferred_role=row['preferred_role'],\n",
    "        friend_registration=friend_registration,  \n",
    "        preferred_team_size=row['preferred_team_size'],\n",
    "        availability=availability,  \n",
    "        programming_skills=programming_skills,  \n",
    "        interest_in_challenges=interest_in_challenges,  \n",
    "        experience=row['experience'],\n",
    "        languages_ordered=languages_ordered,  \n",
    "        maturity=row['maturity'],\n",
    "        Tryhard=row['Tryhard'],\n",
    "        Rookie=row['Rookie'],\n",
    "        Learner=row['Learner'],\n",
    "        Portfolio=row['Portfolio']\n",
    "    )\n",
    "    \n",
    "    participants_dict[row['id']] = participant"
   ]
  },
  {
   "cell_type": "code",
   "execution_count": 45,
   "metadata": {},
   "outputs": [],
   "source": [
    "weights = {\n",
    "    'university': 0.2,\n",
    "    'interests': 0.2,\n",
    "    'preferred_role': 0.3,\n",
    "    'availability': 0.1,\n",
    "    'programming_skils': 0.1,\n",
    "    'interests_in_challenges': 0.05,\n",
    "    'languages': 0.05,\n",
    "    'experience': 0.05,\n",
    "    'maturity': 0.15,\n",
    "    'profile':0.2,\n",
    "    'friends' : 1\n",
    "\n",
    "}\n"
   ]
  },
  {
   "cell_type": "code",
   "execution_count": 46,
   "metadata": {},
   "outputs": [],
   "source": [
    "def combined_distance(participant1: Participant, participant2: Participant, weigths: dict[str,float]):\n",
    "    d_university = dist_university(participant1.university, participant2.university)*weigths['university']\n",
    "    d_interests = dist_one_hot_encoding(participant1.interests, participant2. interests)*weigths['interests']\n",
    "    d_preferred_role = dist_preferred_role(participant1.preferred_role, participant2. preferred_role)*weigths['preferred_role']\n",
    "    d_availability = dist_one_hot_encoding(participant1.availability, participant2. availability)*weigths['availability']\n",
    "    d_programming_skills = dist_programming_skills(participant1.programming_skills, participant2.programming_skills)*weigths['programming_skils']\n",
    "    d_interests_in_challenges = dist_one_hot_encoding(participant1.interest_in_challenges, participant2.interest_in_challenges)*weigths['interests_in_challenges']\n",
    "    d_languages = dist_language(participant1.languages_ordered, participant2.languages_ordered)*weigths['languages']\n",
    "    d_experience = abs(participant1.experience - participant2.experience)*weigths['experience']\n",
    "    d_maturity = abs(participant1.maturity - participant2.maturity)*weigths['maturity']\n",
    "    d_profile = (abs(participant1.Tryhard - participant2.Tryhard) + abs(participant1.Rookie - participant2.Rookie) + abs(participant1.Learner - participant2.Learner) +  abs(participant1.Portfolio - participant2.Portfolio))*weights['profile']\n",
    "    d_friend = dist_friends(participant1.friend_registration, participant2.friend_registration, participant1.id, participant2.id) * weights['friends']\n",
    "    total_distance = (\n",
    "        d_university +\n",
    "        d_interests +\n",
    "        d_preferred_role +\n",
    "        d_availability +\n",
    "        d_programming_skills +\n",
    "        d_interests_in_challenges +\n",
    "        d_languages + \n",
    "        d_experience +\n",
    "        d_maturity +\n",
    "        d_profile\n",
    "    )\n",
    "    return total_distance"
   ]
  },
  {
   "cell_type": "code",
   "execution_count": 47,
   "metadata": {},
   "outputs": [
    {
     "data": {
      "text/plain": [
       "0.3111111111111111"
      ]
     },
     "execution_count": 47,
     "metadata": {},
     "output_type": "execute_result"
    }
   ],
   "source": [
    "combined_distance(participants_dict['2ebad15c-c0ef-4c04-ba98-c5d98403a90c'],participants_dict['2ebad15c-c0ef-4c04-ba98-c5d98403a90c'],weights)"
   ]
  }
 ],
 "metadata": {
  "kernelspec": {
   "display_name": "Python 3",
   "language": "python",
   "name": "python3"
  },
  "language_info": {
   "codemirror_mode": {
    "name": "ipython",
    "version": 3
   },
   "file_extension": ".py",
   "mimetype": "text/x-python",
   "name": "python",
   "nbconvert_exporter": "python",
   "pygments_lexer": "ipython3",
   "version": "3.11.9"
  }
 },
 "nbformat": 4,
 "nbformat_minor": 2
}
